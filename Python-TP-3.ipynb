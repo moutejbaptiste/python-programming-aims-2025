{
 "cells": [
  {
   "cell_type": "markdown",
   "id": "d68c1dee",
   "metadata": {
    "id": "d68c1dee"
   },
   "source": [
    "# Practical_3: Iterable objects or Containers"
   ]
  },
  {
   "cell_type": "code",
   "execution_count": null,
   "id": "ccf9a727",
   "metadata": {},
   "outputs": [],
   "source": []
  },
  {
   "cell_type": "markdown",
   "id": "9924a656",
   "metadata": {
    "id": "bea983a3"
   },
   "source": [
    "---\n",
    "\n",
    "### Exercise 1:\n",
    "Create a list of integers from 1 to 10.\n",
    "\n",
    "```python\n",
    "# Exercise 1\n",
    "```"
   ]
  },
  {
   "cell_type": "code",
   "execution_count": 8,
   "id": "18fd3d37",
   "metadata": {},
   "outputs": [
    {
     "name": "stdout",
     "output_type": "stream",
     "text": [
      "[1, 2, 3, 4, 5, 6, 7, 8, 9, 10]\n"
     ]
    }
   ],
   "source": [
    "list=[1,2,3,4,5,6,7,8,9,10]\n",
    "print(list)"
   ]
  },
  {
   "cell_type": "markdown",
   "id": "cef3685d",
   "metadata": {
    "id": "bea983a3"
   },
   "source": [
    "---\n",
    "\n",
    "### Exercise 2:\n",
    "Create a tuple containing the elements `\"apple\"`, `\"banana\"`, and `\"cherry\"`.\n",
    "\n",
    "```python\n",
    "# Exercise 2\n",
    "```"
   ]
  },
  {
   "cell_type": "code",
   "execution_count": 9,
   "id": "9087804d",
   "metadata": {},
   "outputs": [],
   "source": [
    "tuple=[('apple','banana','cherry')]"
   ]
  },
  {
   "cell_type": "markdown",
   "id": "d98666e7",
   "metadata": {
    "id": "bea983a3"
   },
   "source": [
    "---\n",
    "\n",
    "### Exercise 3:\n",
    "Convert the list `numbers = [10, 20, 30, 40]` into a tuple.\n",
    "\n",
    "```python\n",
    "# Exercise 3\n",
    "```"
   ]
  },
  {
   "cell_type": "code",
   "execution_count": 11,
   "id": "a8fe4e76",
   "metadata": {},
   "outputs": [
    {
     "data": {
      "text/plain": [
       "list"
      ]
     },
     "execution_count": 11,
     "metadata": {},
     "output_type": "execute_result"
    }
   ],
   "source": [
    "numbers = [10, 20, 30, 40]\n",
    "nubers2=type(numbers)\n",
    "nubers2"
   ]
  },
  {
   "cell_type": "code",
   "execution_count": null,
   "id": "bcf77d46",
   "metadata": {
    "id": "bea983a3"
   },
   "outputs": [],
   "source": []
  },
  {
   "cell_type": "markdown",
   "id": "e36496c0",
   "metadata": {
    "id": "bea983a3"
   },
   "source": [
    "---\n",
    "\n",
    "### Exercise 4:\n",
    "Create a set containing the elements `1, 2, 3, 4, 5`.\n",
    "\n",
    "```python\n",
    "# Exercise 4\n",
    "```"
   ]
  },
  {
   "cell_type": "code",
   "execution_count": null,
   "id": "e3a2dde3",
   "metadata": {
    "id": "bea983a3"
   },
   "outputs": [],
   "source": [
    "cont=elements('1,2,3,4,5')"
   ]
  },
  {
   "cell_type": "markdown",
   "id": "ba499521",
   "metadata": {
    "id": "bea983a3"
   },
   "source": [
    "---\n",
    "\n",
    "### Exercise 5:\n",
    "Create a dictionary `student` with the keys `\"name\"`, `\"age\"`, and `\"grade\"` and corresponding values `\"Alice\"`, `20`, and `\"A\"`.\n",
    "\n",
    "```python\n",
    "# Exercise 5\n",
    "```"
   ]
  },
  {
   "cell_type": "code",
   "execution_count": null,
   "id": "7079d581",
   "metadata": {
    "id": "bea983a3"
   },
   "outputs": [],
   "source": [
    "dictionary ='student' 20\n",
    "name ='moute'\n",
    "age=20\n",
    "grade=\"a\"\n",
    "values='alice'"
   ]
  },
  {
   "cell_type": "code",
   "execution_count": null,
   "id": "085d8cbd",
   "metadata": {
    "id": "bea983a3"
   },
   "outputs": [],
   "source": [
    "---\n",
    "\n",
    "### Exercise 6:\n",
    "Access the second element of the list `[10, 20, 30, 40, 50]` using indexing.\n",
    "\n",
    "```python\n",
    "# Exercise 6\n",
    "```"
   ]
  },
  {
   "cell_type": "code",
   "execution_count": 4,
   "id": "a9799aee",
   "metadata": {
    "id": "bea983a3"
   },
   "outputs": [
    {
     "data": {
      "text/plain": [
       "[10, 20, 30, 40, 50]"
      ]
     },
     "execution_count": 4,
     "metadata": {},
     "output_type": "execute_result"
    }
   ],
   "source": [
    "list=[10,20,30,40,50]\n",
    "list"
   ]
  },
  {
   "cell_type": "code",
   "execution_count": null,
   "id": "e3d4574c",
   "metadata": {},
   "outputs": [],
   "source": []
  },
  {
   "cell_type": "code",
   "execution_count": null,
   "id": "ff56a2e9",
   "metadata": {
    "id": "bea983a3"
   },
   "outputs": [],
   "source": [
    "-\n",
    "\n",
    "### Exercise 7:\n",
    "Change the third element of the list `fruits = [\"apple\", \"banana\", \"cherry\", \"orange\"]` to `\"mango\"`.\n",
    "\n",
    "```python\n",
    "# Exercise 7\n",
    "```"
   ]
  },
  {
   "cell_type": "code",
   "execution_count": 6,
   "id": "3cd413a8",
   "metadata": {
    "id": "bea983a3"
   },
   "outputs": [],
   "source": [
    "fruits=[\"appele\",\"banana\",\"cherry\",\"orange\"]\n",
    "fruits=\"mango\""
   ]
  },
  {
   "cell_type": "code",
   "execution_count": null,
   "id": "b6a7d90e",
   "metadata": {
    "id": "bea983a3"
   },
   "outputs": [],
   "source": []
  },
  {
   "cell_type": "code",
   "execution_count": null,
   "id": "a206bf26",
   "metadata": {
    "id": "bea983a3"
   },
   "outputs": [],
   "source": [
    "---\n",
    "\n",
    "### Exercise 8:\n",
    "Add the number `6` to the set `numbers = {1, 2, 3, 4, 5}`.\n",
    "\n",
    "```python\n",
    "# Exercise 8\n",
    "```"
   ]
  },
  {
   "cell_type": "code",
   "execution_count": 24,
   "id": "5359bdce",
   "metadata": {},
   "outputs": [
    {
     "data": {
      "text/plain": [
       "{1, 2, 3, 4, 5, 6}"
      ]
     },
     "execution_count": 24,
     "metadata": {},
     "output_type": "execute_result"
    }
   ],
   "source": [
    "number={1,2,3,4,5}\n",
    "number.add(6)\n",
    "number"
   ]
  },
  {
   "cell_type": "code",
   "execution_count": null,
   "id": "648826b8",
   "metadata": {
    "id": "bea983a3"
   },
   "outputs": [],
   "source": [
    "---\n",
    "\n",
    "### Exercise 9:\n",
    "Remove the key `\"age\"` from the dictionary `person = {\"name\": \"John\", \"age\": 25, \"city\": \"New York\"}`.\n",
    "\n",
    "```python\n",
    "# Exercise 9\n",
    "```"
   ]
  },
  {
   "cell_type": "markdown",
   "id": "6e2ae83c",
   "metadata": {},
   "source": [
    "person={\"name\":\"john Boy\",\"age\":25,\"city\":\"new york\"}\n",
    "print(\"avant suppression:\",person)"
   ]
  },
  {
   "cell_type": "code",
   "execution_count": null,
   "id": "3ac494fa",
   "metadata": {
    "id": "bea983a3"
   },
   "outputs": [],
   "source": [
    "---\n",
    "\n",
    "### Exercise 10:\n",
    "Create a range object starting from 0 to 9.\n",
    "\n",
    "```python\n",
    "# Exercise 10\n",
    "```\n",
    "\n",
    "---"
   ]
  },
  {
   "cell_type": "code",
   "execution_count": 1,
   "id": "04bbe55f",
   "metadata": {
    "id": "bea983a3"
   },
   "outputs": [],
   "source": [
    "numbers_rang=range(0,10)"
   ]
  },
  {
   "cell_type": "code",
   "execution_count": null,
   "id": "df81782d",
   "metadata": {
    "id": "bea983a3"
   },
   "outputs": [],
   "source": [
    "### Exercise 11:\n",
    "Use a list comprehension to create a list of squares of numbers from 1 to 10.\n",
    "\n",
    "```python\n",
    "# Exercise 11\n",
    "```\n",
    "\n",
    "---"
   ]
  },
  {
   "cell_type": "code",
   "execution_count": 3,
   "id": "86f88bc4",
   "metadata": {},
   "outputs": [],
   "source": [
    "squares=[x**2 for x in range(1,11)]"
   ]
  },
  {
   "cell_type": "code",
   "execution_count": null,
   "id": "a84d59bf",
   "metadata": {
    "id": "bea983a3"
   },
   "outputs": [],
   "source": [
    "### Exercise 12:\n",
    "Create a tuple of even numbers between 2 and 10 using a tuple comprehension.\n",
    "\n",
    "```python\n",
    "# Exercise 12\n",
    "```\n",
    "\n",
    "---"
   ]
  },
  {
   "cell_type": "code",
   "execution_count": 4,
   "id": "0205cae3",
   "metadata": {},
   "outputs": [],
   "source": [
    "even_numbers=tuple(x for x in range(2,11,2))"
   ]
  },
  {
   "cell_type": "code",
   "execution_count": null,
   "id": "787ca04d",
   "metadata": {
    "id": "bea983a3"
   },
   "outputs": [],
   "source": [
    "### Exercise 13:\n",
    "Use a for loop to iterate through the list `fruits = [\"apple\", \"banana\", \"cherry\"]` and print each element.\n",
    "\n",
    "```python\n",
    "# Exercise 13\n",
    "```\n",
    "\n",
    "---"
   ]
  },
  {
   "cell_type": "code",
   "execution_count": 7,
   "id": "58488576",
   "metadata": {},
   "outputs": [
    {
     "name": "stdout",
     "output_type": "stream",
     "text": [
      "apple\n",
      "banana\n",
      "cherry\n"
     ]
    }
   ],
   "source": [
    "fruits=[\"apple\",\"banana\",\"cherry\"]\n",
    "for fruit in fruits:\n",
    "    print(fruit)"
   ]
  },
  {
   "cell_type": "code",
   "execution_count": null,
   "id": "918eddc9",
   "metadata": {
    "id": "bea983a3"
   },
   "outputs": [],
   "source": [
    "### Exercise 14:\n",
    "Check if the value `3` exists in the set `numbers = {1, 2, 3, 4, 5}`.\n",
    "\n",
    "```python\n",
    "# Exercise 14\n",
    "```\n",
    "\n",
    "---"
   ]
  },
  {
   "cell_type": "markdown",
   "id": "32623a0b",
   "metadata": {},
   "source": [
    "number={1,2,3,4,5}\n",
    "contrains_3:3 in numbers"
   ]
  },
  {
   "cell_type": "code",
   "execution_count": null,
   "id": "251d5bfb",
   "metadata": {
    "id": "bea983a3"
   },
   "outputs": [],
   "source": [
    "### Exercise 15:\n",
    "Use the `len()` function to find the length of the tuple `numbers = (10, 20, 30)`.\n",
    "\n",
    "```python\n",
    "# Exercise 15\n",
    "```\n",
    "\n",
    "---"
   ]
  },
  {
   "cell_type": "markdown",
   "id": "5c8a727c",
   "metadata": {},
   "source": [
    "number=(1,2,3,4,5)\n",
    "length=3 in numbers"
   ]
  },
  {
   "cell_type": "markdown",
   "id": "0557b491",
   "metadata": {},
   "source": [
    "number = (10,20,30)\n",
    "    length = len (numbers)"
   ]
  },
  {
   "cell_type": "code",
   "execution_count": null,
   "id": "4f117c43",
   "metadata": {
    "id": "bea983a3"
   },
   "outputs": [],
   "source": [
    "### Exercise 16:\n",
    "Add the value `100` at the end of the list `scores = [80, 85, 90, 95]`.\n",
    "\n",
    "```python\n",
    "# Exercise 16\n",
    "```\n",
    "\n",
    "---"
   ]
  },
  {
   "cell_type": "code",
   "execution_count": 1,
   "id": "bc6e19e0",
   "metadata": {},
   "outputs": [],
   "source": [
    "scores=[80,85,90,95]\n",
    "scores.append(100)"
   ]
  },
  {
   "cell_type": "code",
   "execution_count": null,
   "id": "90f4fbc6",
   "metadata": {
    "id": "bea983a3"
   },
   "outputs": [],
   "source": [
    "### Exercise 17:\n",
    "Write a function that takes a list as input and returns the sum of all elements in the list.\n",
    "\n",
    "```python\n",
    "# Exercise 17\n",
    "```\n",
    "\n",
    "---"
   ]
  },
  {
   "cell_type": "code",
   "execution_count": 3,
   "id": "63bbb431",
   "metadata": {},
   "outputs": [],
   "source": [
    "def sum_list(lst):\n",
    "    return"
   ]
  },
  {
   "cell_type": "code",
   "execution_count": null,
   "id": "70135019",
   "metadata": {
    "id": "bea983a3"
   },
   "outputs": [],
   "source": [
    "### Exercise 18:\n",
    "Create a set containing the unique elements of the list `numbers = [1, 2, 2, 3, 4, 4, 5]`.\n",
    "\n",
    "```python\n",
    "# Exercise 18\n",
    "```\n",
    "\n",
    "---"
   ]
  },
  {
   "cell_type": "code",
   "execution_count": 4,
   "id": "7de6c31b",
   "metadata": {},
   "outputs": [],
   "source": [
    "numbers=[1,2,2,3,4,4,5,]\n",
    "unique_numbers= set(numbers)"
   ]
  },
  {
   "cell_type": "code",
   "execution_count": null,
   "id": "67cd9d33",
   "metadata": {
    "id": "bea983a3"
   },
   "outputs": [],
   "source": [
    "### Exercise 19:\n",
    "Convert the string `\"hello\"` into a list of characters.\n",
    "\n",
    "```python\n",
    "# Exercise 19\n",
    "```\n",
    "\n",
    "---"
   ]
  },
  {
   "cell_type": "code",
   "execution_count": 5,
   "id": "d04a43dc",
   "metadata": {},
   "outputs": [],
   "source": [
    "text=\"hello\"\n",
    "char_list=list(text)"
   ]
  },
  {
   "cell_type": "code",
   "execution_count": null,
   "id": "d78a197f",
   "metadata": {
    "id": "bea983a3"
   },
   "outputs": [],
   "source": [
    "### Exercise 20:\n",
    "Write a Python function that reverses a tuple `(1, 2, 3, 4)`.\n",
    "\n",
    "```python\n",
    "# Exercise 20\n",
    "```\n",
    "\n",
    "---"
   ]
  },
  {
   "cell_type": "code",
   "execution_count": 6,
   "id": "7bed96ac",
   "metadata": {},
   "outputs": [],
   "source": [
    "def reverse_truple(t):\n",
    "    return t[::-1]"
   ]
  },
  {
   "cell_type": "code",
   "execution_count": null,
   "id": "5ad16692",
   "metadata": {
    "id": "bea983a3"
   },
   "outputs": [],
   "source": [
    "### Exercise 21:\n",
    "Merge two dictionaries `dict1 = {\"a\": 1, \"b\": 2}` and `dict2 = {\"c\": 3, \"d\": 4}` into a single dictionary.\n",
    "\n",
    "```python\n",
    "# Exercise 21\n",
    "```\n",
    "\n",
    "---"
   ]
  },
  {
   "cell_type": "code",
   "execution_count": 7,
   "id": "ddbd23b6",
   "metadata": {},
   "outputs": [],
   "source": [
    "dict1={\"a\":1,\"b\":2}\n",
    "dict2={\"c\":3,\"d\":4}\n",
    "merged_dict={**dict1,**dict2}"
   ]
  },
  {
   "cell_type": "code",
   "execution_count": null,
   "id": "b483ef44",
   "metadata": {
    "id": "bea983a3"
   },
   "outputs": [],
   "source": [
    "### Exercise 22:\n",
    "Create a dictionary where keys are numbers from 1 to 5, and values are their squares.\n",
    "\n",
    "```python\n",
    "# Exercise 22\n",
    "```\n",
    "\n",
    "---"
   ]
  },
  {
   "cell_type": "code",
   "execution_count": 9,
   "id": "470af4c1",
   "metadata": {},
   "outputs": [],
   "source": [
    "squarer_dict={x:x**2 for x in range(1,6)}"
   ]
  },
  {
   "cell_type": "code",
   "execution_count": null,
   "id": "e670937b",
   "metadata": {
    "id": "bea983a3"
   },
   "outputs": [],
   "source": [
    "### Exercise 23:\n",
    "Write a Python program to iterate through a dictionary and print each key-value pair.\n",
    "\n",
    "```python\n",
    "# Exercise 23\n",
    "```\n",
    "\n",
    "---"
   ]
  },
  {
   "cell_type": "code",
   "execution_count": 10,
   "id": "bf371b91",
   "metadata": {},
   "outputs": [
    {
     "name": "stdout",
     "output_type": "stream",
     "text": [
      "name:alice\n",
      "age:25\n",
      "city:new york\n"
     ]
    }
   ],
   "source": [
    "person={\"name\":\"alice\",\"age\":25,\"city\":\"new york\"}\n",
    "for key,value in person.items():\n",
    "    print(f\"{key}:{value}\")"
   ]
  },
  {
   "cell_type": "code",
   "execution_count": null,
   "id": "ed9e09e2",
   "metadata": {
    "id": "bea983a3"
   },
   "outputs": [],
   "source": [
    "### Exercise 24:\n",
    "Create a list of the first 5 letters of the alphabet using the `chr()` function.\n",
    "\n",
    "```python\n",
    "# Exercise 24\n",
    "```\n",
    "\n",
    "---"
   ]
  },
  {
   "cell_type": "markdown",
   "id": "9d71f515",
   "metadata": {},
   "source": [
    "number=[10,20,30,40,50]\n",
    "index=numbers.index(50)\n"
   ]
  },
  {
   "cell_type": "code",
   "execution_count": null,
   "id": "fdd16391",
   "metadata": {
    "id": "bea983a3"
   },
   "outputs": [],
   "source": [
    "### Exercise 25:\n",
    "Use the `zip()` function to combine two lists `[1, 2, 3]` and `[\"a\", \"b\", \"c\"]` into a list of tuples.\n",
    "\n",
    "```python\n",
    "# Exercise 25\n",
    "```\n",
    "\n",
    "---"
   ]
  },
  {
   "cell_type": "markdown",
   "id": "f86e5091",
   "metadata": {},
   "source": []
  },
  {
   "cell_type": "code",
   "execution_count": null,
   "id": "0fc6d8da",
   "metadata": {
    "id": "bea983a3"
   },
   "outputs": [],
   "source": [
    "### Exercise 26:\n",
    "Find the index of the value `50` in the list `[10, 20, 30, 40, 50]`.\n",
    "\n",
    "```python\n",
    "# Exercise 26\n",
    "```\n",
    "\n",
    "---"
   ]
  },
  {
   "cell_type": "code",
   "execution_count": null,
   "id": "25c7fbda",
   "metadata": {},
   "outputs": [],
   "source": []
  },
  {
   "cell_type": "code",
   "execution_count": null,
   "id": "219b4be2",
   "metadata": {
    "id": "bea983a3"
   },
   "outputs": [],
   "source": [
    "### Exercise 27:\n",
    "Sort the list `names = [\"Alice\", \"Bob\", \"Charlie\", \"David\"]` in alphabetical order.\n",
    "\n",
    "```python\n",
    "# Exercise 27\n",
    "```\n",
    "\n",
    "---"
   ]
  },
  {
   "cell_type": "code",
   "execution_count": 22,
   "id": "a838fbf5",
   "metadata": {},
   "outputs": [],
   "source": [
    "name=[\"Alice\",\"Bob\",\"Charlin\",\"David\"]\n",
    "name.sort()"
   ]
  },
  {
   "cell_type": "code",
   "execution_count": null,
   "id": "b861d089",
   "metadata": {
    "id": "bea983a3"
   },
   "outputs": [],
   "source": [
    "### Exercise 28:\n",
    "Write a Python function that takes a list of integers as input and returns the largest number.\n",
    "\n",
    "```python\n",
    "# Exercise 28\n",
    "```\n",
    "\n",
    "---"
   ]
  },
  {
   "cell_type": "code",
   "execution_count": 23,
   "id": "1d64d23a",
   "metadata": {},
   "outputs": [],
   "source": [
    "def find_largest(lst):\n",
    "    return max(lst)"
   ]
  },
  {
   "cell_type": "code",
   "execution_count": null,
   "id": "57900a40",
   "metadata": {
    "id": "bea983a3"
   },
   "outputs": [],
   "source": [
    "### Exercise 29:\n",
    "Use the `count()` method to count how many times `\"apple\"` appears in the list `fruits = [\"apple\", \"banana\", \"apple\", \"orange\"]`.\n",
    "\n",
    "```python\n",
    "# Exercise 29\n",
    "```\n",
    "\n",
    "---"
   ]
  },
  {
   "cell_type": "code",
   "execution_count": null,
   "id": "4566987a",
   "metadata": {
    "id": "bea983a3"
   },
   "outputs": [],
   "source": [
    "### Exercise 30:\n",
    "Create a dictionary `person` where keys are `\"name\"`, `\"age\"`, and `\"city\"`, and values are `\"Alice\"`, `25`, and `\"New York\"` respectively. Then access the value of the `\"city\"` key.\n",
    "\n",
    "```python\n",
    "# Exercise 30\n",
    "```\n",
    "\n",
    "---"
   ]
  },
  {
   "cell_type": "markdown",
   "id": "3471996f",
   "metadata": {},
   "source": []
  },
  {
   "cell_type": "code",
   "execution_count": null,
   "id": "94c5facf",
   "metadata": {
    "id": "bea983a3"
   },
   "outputs": [],
   "source": [
    "### Exercise 31:\n",
    "Write a Python function that takes a list as input and returns a new list with all duplicates removed.\n",
    "\n",
    "```python\n",
    "# Exercise 31\n",
    "```\n",
    "\n",
    "---"
   ]
  },
  {
   "cell_type": "code",
   "execution_count": 33,
   "id": "48e38581",
   "metadata": {},
   "outputs": [],
   "source": [
    "def remove_duplicates(lst):\n",
    "    return list(lst)"
   ]
  },
  {
   "cell_type": "code",
   "execution_count": null,
   "id": "224705ee",
   "metadata": {
    "id": "bea983a3"
   },
   "outputs": [],
   "source": [
    "### Exercise 32:\n",
    "Write a Python function that takes two lists and returns their intersection.\n",
    "\n",
    "```python\n",
    "# Exercise 32\n",
    "```\n",
    "\n",
    "---"
   ]
  },
  {
   "cell_type": "code",
   "execution_count": 34,
   "id": "03105421",
   "metadata": {},
   "outputs": [],
   "source": [
    "def intersection(list1,liste2):\n",
    "    return list(set(list1) & set(list2))"
   ]
  },
  {
   "cell_type": "code",
   "execution_count": null,
   "id": "3657e84c",
   "metadata": {
    "id": "bea983a3"
   },
   "outputs": [],
   "source": [
    "### Exercise 33:\n",
    "Create a generator that yields the squares of numbers from 1 to 10.\n",
    "\n",
    "```python\n",
    "# Exercise 33\n",
    "```\n",
    "\n",
    "---"
   ]
  },
  {
   "cell_type": "code",
   "execution_count": 35,
   "id": "81a14c6d",
   "metadata": {},
   "outputs": [],
   "source": [
    "def squarer_generator():\n",
    "    for i in range(1,11):\n",
    "        yield i**2\n",
    "    "
   ]
  },
  {
   "cell_type": "code",
   "execution_count": null,
   "id": "b44dd411",
   "metadata": {
    "id": "bea983a3"
   },
   "outputs": [],
   "source": [
    "### Exercise 34:\n",
    "Write a Python function that takes a dictionary as input and returns the sum of all its values.\n",
    "\n",
    "```python\n",
    "# Exercise 34\n",
    "```\n",
    "\n",
    "---"
   ]
  },
  {
   "cell_type": "code",
   "execution_count": 36,
   "id": "fb173afa",
   "metadata": {},
   "outputs": [],
   "source": [
    "def sum_dict_values(d):\n",
    "    return sum(d.values())"
   ]
  },
  {
   "cell_type": "code",
   "execution_count": null,
   "id": "b33da9fc",
   "metadata": {
    "id": "bea983a3"
   },
   "outputs": [],
   "source": [
    "### Exercise 35:\n",
    "Use the `sorted()` function to sort the list `[3, 1, 4, 1, 5, 9]` in ascending order.\n",
    "\n",
    "```python\n",
    "# Exercise 35\n",
    "```\n",
    "\n",
    "---"
   ]
  },
  {
   "cell_type": "code",
   "execution_count": 37,
   "id": "3868f1a4",
   "metadata": {},
   "outputs": [],
   "source": [
    "numbers=[3,1,4,1,5,9]\n",
    "sorted_numbers=sorted(numbers)"
   ]
  },
  {
   "cell_type": "code",
   "execution_count": null,
   "id": "8c096c0c",
   "metadata": {
    "id": "bea983a3"
   },
   "outputs": [],
   "source": [
    "### Exercise 36:\n",
    "Write a Python function that takes a list of strings as input and returns the longest string.\n",
    "\n",
    "```python\n",
    "# Exercise 36\n",
    "```\n",
    "\n",
    "---"
   ]
  },
  {
   "cell_type": "code",
   "execution_count": 38,
   "id": "9d51efe9",
   "metadata": {},
   "outputs": [],
   "source": [
    "def longest_string(strings):\n",
    "    return max(strings,key=len)"
   ]
  },
  {
   "cell_type": "code",
   "execution_count": null,
   "id": "135635b1",
   "metadata": {
    "id": "bea983a3"
   },
   "outputs": [],
   "source": [
    "### Exercise 37:\n",
    "Check if all the elements in the list `[1, 2, 3, 4, 5]` are greater than 0 using the `all()` function.\n",
    "\n",
    "```python\n",
    "# Exercise 37\n",
    "```\n",
    "\n",
    "---"
   ]
  },
  {
   "cell_type": "code",
   "execution_count": 39,
   "id": "0ba1b93f",
   "metadata": {},
   "outputs": [],
   "source": [
    "number=[1,2,3,4,5]\n",
    "all_positive=all(x > 0 for x in numbers)"
   ]
  },
  {
   "cell_type": "code",
   "execution_count": null,
   "id": "b42a3431",
   "metadata": {
    "id": "bea983a3"
   },
   "outputs": [],
   "source": [
    "### Exercise 38:\n",
    "Create a list of tuples where each tuple contains a number and its square for numbers from 1 to 5.\n",
    "\n",
    "```python\n",
    "# Exercise 38\n",
    "```\n",
    "\n",
    "---"
   ]
  },
  {
   "cell_type": "code",
   "execution_count": 40,
   "id": "af7a106b",
   "metadata": {},
   "outputs": [],
   "source": [
    "number_squares=[(x,x**2) for x in range(1,6)]"
   ]
  },
  {
   "cell_type": "code",
   "execution_count": null,
   "id": "46c562c9",
   "metadata": {
    "id": "bea983a3"
   },
   "outputs": [],
   "source": [
    "### Exercise 39:\n",
    "Write a Python function that takes a list of tuples and returns a list of the second elements from each tuple.\n",
    "\n",
    "```python\n",
    "# Exercise 39\n",
    "```\n",
    "\n",
    "---"
   ]
  },
  {
   "cell_type": "code",
   "execution_count": 43,
   "id": "ad811591",
   "metadata": {},
   "outputs": [],
   "source": [
    "def get_second_elements(tuples_list):\n",
    "    return[t[1]for t in tuples_list]"
   ]
  },
  {
   "cell_type": "code",
   "execution_count": null,
   "id": "0af28517",
   "metadata": {
    "id": "bea983a3"
   },
   "outputs": [],
   "source": [
    "### Exercise 40:\n",
    "Write a Python function that flattens a list of lists into a single list.\n",
    "\n",
    "```python\n",
    "# Exercise 40\n",
    "```\n",
    "\n",
    "---"
   ]
  },
  {
   "cell_type": "code",
   "execution_count": 44,
   "id": "0a0cfdaf",
   "metadata": {},
   "outputs": [],
   "source": [
    "def flatten_list(nested_list):\n",
    "    result=[]\n",
    "    for item in nested_list:\n",
    "        if isintence(item,list):\n",
    "            result.extend(flatten_list(item))\n",
    "        else:\n",
    "            result.append(item)\n",
    "            return result"
   ]
  },
  {
   "cell_type": "code",
   "execution_count": null,
   "id": "924aaba0",
   "metadata": {
    "id": "bea983a3"
   },
   "outputs": [],
   "source": [
    "### Exercise 41:\n",
    "Use the `enumerate()` function to iterate through the list `[\"apple\", \"banana\", \"cherry\"]` and print the index and value.\n",
    "\n",
    "```python\n",
    "# Exercise 41\n",
    "```\n",
    "\n",
    "---"
   ]
  },
  {
   "cell_type": "code",
   "execution_count": 7,
   "id": "17254fea",
   "metadata": {},
   "outputs": [
    {
     "name": "stdout",
     "output_type": "stream",
     "text": [
      "0:apple\n",
      "1:banana\n",
      "2:cherry\n"
     ]
    }
   ],
   "source": [
    "fruits =[\"apple\",\"banana\",\"cherry\"]\n",
    "for index,fruit in enumerate(fruits):\n",
    "    print(f\"{index}:{fruit}\")"
   ]
  },
  {
   "cell_type": "code",
   "execution_count": null,
   "id": "d14bf0bc",
   "metadata": {
    "id": "bea983a3"
   },
   "outputs": [],
   "source": [
    "### Exercise 42:\n",
    "Write a Python program that checks if a tuple is empty.\n",
    "\n",
    "```python\n",
    "# Exercise 42\n",
    "```\n",
    "\n",
    "---"
   ]
  },
  {
   "cell_type": "code",
   "execution_count": 1,
   "id": "e5957b99",
   "metadata": {},
   "outputs": [],
   "source": [
    "def is_tuple_empty(t):\n",
    "    return len(t)==0"
   ]
  },
  {
   "cell_type": "code",
   "execution_count": null,
   "id": "4fe1f567",
   "metadata": {
    "id": "bea983a3"
   },
   "outputs": [],
   "source": [
    "### Exercise 43:\n",
    "Create a list of even numbers between 1 and 20 using the `range()` function.\n",
    "\n",
    "```python\n",
    "# Exercise 43\n",
    "```\n",
    "\n",
    "---"
   ]
  },
  {
   "cell_type": "code",
   "execution_count": 2,
   "id": "dc90a644",
   "metadata": {},
   "outputs": [],
   "source": [
    "even_numbers=list(range(2,21,2))"
   ]
  },
  {
   "cell_type": "code",
   "execution_count": null,
   "id": "d1255814",
   "metadata": {
    "id": "bea983a3"
   },
   "outputs": [],
   "source": [
    "### Exercise 44:\n",
    "Write a Python function that takes a list of numbers as input and returns the list in reverse order.\n",
    "\n",
    "```python\n",
    "# Exercise 44\n",
    "```\n",
    "\n",
    "---"
   ]
  },
  {
   "cell_type": "code",
   "execution_count": 3,
   "id": "05009f72",
   "metadata": {},
   "outputs": [],
   "source": [
    "def reverse_list(lst):\n",
    "    return lst[::-1]"
   ]
  },
  {
   "cell_type": "code",
   "execution_count": null,
   "id": "360b0b10",
   "metadata": {
    "id": "bea983a3"
   },
   "outputs": [],
   "source": [
    "### Exercise 45:\n",
    "Create a dictionary comprehension that maps numbers from 1 to 5 to their cubes.\n",
    "\n",
    "```python\n",
    "# Exercise 45\n",
    "```\n",
    "\n",
    "---"
   ]
  },
  {
   "cell_type": "code",
   "execution_count": 4,
   "id": "081819cc",
   "metadata": {},
   "outputs": [],
   "source": [
    "cubes_dict={x: x**3 for x in range(1,6)}"
   ]
  },
  {
   "cell_type": "code",
   "execution_count": null,
   "id": "c55ef1a1",
   "metadata": {
    "id": "bea983a3"
   },
   "outputs": [],
   "source": [
    "### Exercise 46:\n",
    "Write a Python program that creates a new list containing only the unique elements of the list `[1, 2, 2, 3, 4, 4, 5]`.\n",
    "\n",
    "```python\n",
    "# Exercise 46\n",
    "```\n",
    "\n",
    "---"
   ]
  },
  {
   "cell_type": "code",
   "execution_count": 10,
   "id": "d1bbbdae",
   "metadata": {},
   "outputs": [
    {
     "ename": "NameError",
     "evalue": "name 'numbers' is not defined",
     "output_type": "error",
     "traceback": [
      "\u001b[0;31m---------------------------------------------------------------------------\u001b[0m",
      "\u001b[0;31mNameError\u001b[0m                                 Traceback (most recent call last)",
      "\u001b[0;32m/tmp/ipykernel_15772/1563323742.py\u001b[0m in \u001b[0;36m<module>\u001b[0;34m\u001b[0m\n\u001b[1;32m      1\u001b[0m \u001b[0mnumber\u001b[0m\u001b[0;34m=\u001b[0m\u001b[0;34m[\u001b[0m\u001b[0;36m1\u001b[0m\u001b[0;34m,\u001b[0m\u001b[0;36m2\u001b[0m\u001b[0;34m,\u001b[0m\u001b[0;36m3\u001b[0m\u001b[0;34m,\u001b[0m\u001b[0;36m4\u001b[0m\u001b[0;34m,\u001b[0m\u001b[0;36m4\u001b[0m\u001b[0;34m]\u001b[0m\u001b[0;34m\u001b[0m\u001b[0;34m\u001b[0m\u001b[0m\n\u001b[0;32m----> 2\u001b[0;31m \u001b[0munique_numbers\u001b[0m\u001b[0;34m=\u001b[0m\u001b[0mlist\u001b[0m\u001b[0;34m(\u001b[0m\u001b[0mset\u001b[0m\u001b[0;34m(\u001b[0m\u001b[0mnumbers\u001b[0m\u001b[0;34m)\u001b[0m\u001b[0;34m)\u001b[0m\u001b[0;34m\u001b[0m\u001b[0;34m\u001b[0m\u001b[0m\n\u001b[0m",
      "\u001b[0;31mNameError\u001b[0m: name 'numbers' is not defined"
     ]
    }
   ],
   "source": [
    "number=[1,2,3,4,4,5]\n",
    "unique_numbers=list(set(numbers))"
   ]
  },
  {
   "cell_type": "code",
   "execution_count": null,
   "id": "6cdc4a28",
   "metadata": {
    "id": "bea983a3"
   },
   "outputs": [],
   "source": [
    "### Exercise 47:\n",
    "Write a Python function that takes a list of dictionaries and returns a list of the values for a given key.\n",
    "\n",
    "```python\n",
    "# Exercise 47\n",
    "```\n",
    "\n",
    "---"
   ]
  },
  {
   "cell_type": "code",
   "execution_count": null,
   "id": "46d3881d",
   "metadata": {},
   "outputs": [],
   "source": [
    "def get_values_by_key(dict_list,key)\n",
    "return[d.get(key)for d in dict_l]"
   ]
  },
  {
   "cell_type": "code",
   "execution_count": null,
   "id": "a2f85496",
   "metadata": {
    "id": "bea983a3"
   },
   "outputs": [],
   "source": [
    "### Exercise 48:\n",
    "Write a Python function that uses a generator to yield the Fibonacci sequence up to `n` terms.\n",
    "\n",
    "```python\n",
    "# Exercise 48\n",
    "```\n",
    "\n",
    "---"
   ]
  },
  {
   "cell_type": "code",
   "execution_count": 13,
   "id": "533bc848",
   "metadata": {},
   "outputs": [
    {
     "ename": "SyntaxError",
     "evalue": "invalid syntax (1231067555.py, line 3)",
     "output_type": "error",
     "traceback": [
      "\u001b[0;36m  File \u001b[0;32m\"/tmp/ipykernel_11487/1231067555.py\"\u001b[0;36m, line \u001b[0;32m3\u001b[0m\n\u001b[0;31m    for-in range (n):\u001b[0m\n\u001b[0m       ^\u001b[0m\n\u001b[0;31mSyntaxError\u001b[0m\u001b[0;31m:\u001b[0m invalid syntax\n"
     ]
    }
   ],
   "source": [
    "def fibonacci_generator(n):\n",
    "    a,b = 0,1\n",
    "    for-in range (n):\n",
    "        yield a \n",
    "        a,b = b,a,b"
   ]
  },
  {
   "cell_type": "code",
   "execution_count": null,
   "id": "79a2c68c",
   "metadata": {
    "id": "bea983a3"
   },
   "outputs": [],
   "source": [
    "### Exercise 49:\n",
    "Write a Python function that takes a string and returns a list of all unique characters in the string.\n",
    "\n",
    "```python\n",
    "# Exercise 49\n",
    "```\n",
    "\n",
    "---"
   ]
  },
  {
   "cell_type": "code",
   "execution_count": 5,
   "id": "a5d2ebd1",
   "metadata": {},
   "outputs": [],
   "source": [
    "def unique_characters(text):\n",
    "    return list(set(text))"
   ]
  },
  {
   "cell_type": "code",
   "execution_count": null,
   "id": "2c1ae070",
   "metadata": {
    "id": "bea983a3"
   },
   "outputs": [],
   "source": [
    "### Exercise 50:\n",
    "Write a Python function that merges two sorted lists into a single sorted list.\n",
    "\n",
    "```python\n",
    "# Exercise 50\n",
    "```\n",
    "\n",
    "---"
   ]
  },
  {
   "cell_type": "code",
   "execution_count": 8,
   "id": "3f92fa12",
   "metadata": {},
   "outputs": [],
   "source": [
    "def merge_sorted_lists(list1,list2):\n",
    "    return sorted(list1+list2)"
   ]
  },
  {
   "cell_type": "code",
   "execution_count": null,
   "id": "bd951501",
   "metadata": {
    "id": "bea983a3"
   },
   "outputs": [],
   "source": [
    "### Exercise 51:\n",
    "Use the\n",
    "\n",
    " `filter()` function to filter out odd numbers from the list `[1, 2, 3, 4, 5, 6]`.\n",
    "\n",
    "```python\n",
    "# Exercise 51\n",
    "```\n",
    "\n",
    "---"
   ]
  },
  {
   "cell_type": "code",
   "execution_count": 11,
   "id": "48b54f90",
   "metadata": {},
   "outputs": [],
   "source": [
    "numbers=[1,2,3,4,5,6]\n",
    "even_numbers=list(filter(lambda x:x%2==0,numbers))"
   ]
  },
  {
   "cell_type": "code",
   "execution_count": null,
   "id": "e11f93ec",
   "metadata": {
    "id": "bea983a3"
   },
   "outputs": [],
   "source": [
    "### Exercise 52:\n",
    "Write a Python program that converts a list of tuples `[(1, 2), (3, 4), (5, 6)]` into a dictionary.\n",
    "\n",
    "```python\n",
    "# Exercise 52\n",
    "```\n",
    "\n",
    "---"
   ]
  },
  {
   "cell_type": "code",
   "execution_count": 15,
   "id": "359d8846",
   "metadata": {},
   "outputs": [],
   "source": [
    "tuples_list=[(1,2),(3,4),(5,6)]\n",
    "result_dict=dict(tuples_list)"
   ]
  },
  {
   "cell_type": "code",
   "execution_count": null,
   "id": "2374f354",
   "metadata": {
    "id": "bea983a3"
   },
   "outputs": [],
   "source": [
    "### Exercise 53:\n",
    "Write a Python function that takes two sets and returns their symmetric difference.\n",
    "\n",
    "```python\n",
    "# Exercise 53\n",
    "```\n",
    "\n",
    "---"
   ]
  },
  {
   "cell_type": "code",
   "execution_count": 16,
   "id": "520a4828",
   "metadata": {},
   "outputs": [],
   "source": [
    "def symmetric_difference(set1,set2):\n",
    "    return set1^set2"
   ]
  },
  {
   "cell_type": "code",
   "execution_count": null,
   "id": "eabd1e25",
   "metadata": {
    "id": "bea983a3"
   },
   "outputs": [],
   "source": [
    "### Exercise 54:\n",
    "Write a Python program that finds the common elements in three lists `list1`, `list2`, and `list3`.\n",
    "\n",
    "```python\n",
    "# Exercise 54\n",
    "```\n",
    "\n",
    "---"
   ]
  },
  {
   "cell_type": "code",
   "execution_count": 17,
   "id": "7c4079a5",
   "metadata": {},
   "outputs": [],
   "source": [
    "def common_elements_thee(list1,list2,list3):\n",
    "    return list(set(list1)&set(list2)&set(list3))"
   ]
  },
  {
   "cell_type": "code",
   "execution_count": null,
   "id": "ed5f7d82",
   "metadata": {
    "id": "bea983a3"
   },
   "outputs": [],
   "source": [
    "### Exercise 55:\n",
    "Write a Python function that returns the factorial of a number using recursion.\n",
    "\n",
    "```python\n",
    "# Exercise 55\n",
    "```\n",
    "\n",
    "---"
   ]
  },
  {
   "cell_type": "code",
   "execution_count": 22,
   "id": "3ac34f4c",
   "metadata": {},
   "outputs": [
    {
     "ename": "SyntaxError",
     "evalue": "expected ':' (3645591839.py, line 1)",
     "output_type": "error",
     "traceback": [
      "\u001b[0;36m  File \u001b[0;32m\"/tmp/ipykernel_11487/3645591839.py\"\u001b[0;36m, line \u001b[0;32m1\u001b[0m\n\u001b[0;31m    def factorial (n)\u001b[0m\n\u001b[0m                     ^\u001b[0m\n\u001b[0;31mSyntaxError\u001b[0m\u001b[0;31m:\u001b[0m expected ':'\n"
     ]
    }
   ],
   "source": [
    "def factorial (n)\n",
    " if n = = 0 or n = =1:\n",
    "    return1\n",
    "    return n*factorial(n-1)"
   ]
  },
  {
   "cell_type": "code",
   "execution_count": null,
   "id": "b8aa760d",
   "metadata": {
    "id": "bea983a3"
   },
   "outputs": [],
   "source": [
    "### Exercise 56:\n",
    "Write a Python program that removes all empty strings from the list `[\"apple\", \"\", \"banana\", \"\", \"cherry\"]`.\n",
    "\n",
    "```python\n",
    "# Exercise 56\n",
    "```\n",
    "\n",
    "---"
   ]
  },
  {
   "cell_type": "markdown",
   "id": "f7a3d000",
   "metadata": {},
   "source": [
    "strings=[\"apple\",\"\",\"banana\",\"\",\"cherry\"]\n",
    "     non_empty=list(fitter(none,strings))"
   ]
  },
  {
   "cell_type": "code",
   "execution_count": null,
   "id": "05af9e22",
   "metadata": {
    "id": "bea983a3"
   },
   "outputs": [],
   "source": [
    "### Exercise 57:\n",
    "Write a Python function that takes a dictionary and returns a new dictionary with the keys and values swapped.\n",
    "\n",
    "```python\n",
    "# Exercise 57\n",
    "```\n",
    "\n",
    "---"
   ]
  },
  {
   "cell_type": "code",
   "execution_count": 29,
   "id": "aa6a5e48",
   "metadata": {},
   "outputs": [],
   "source": [
    "def swap_dict_values(d):\n",
    "    return{v:k for k,v in d.items()}"
   ]
  },
  {
   "cell_type": "code",
   "execution_count": null,
   "id": "be64340c",
   "metadata": {
    "id": "bea983a3"
   },
   "outputs": [],
   "source": [
    "### Exercise 58:\n",
    "Write a Python function that takes a list of integers and returns a new list with only the even numbers.\n",
    "\n",
    "```python\n",
    "# Exercise 58\n",
    "```\n",
    "\n",
    "---"
   ]
  },
  {
   "cell_type": "code",
   "execution_count": 31,
   "id": "6eb580aa",
   "metadata": {},
   "outputs": [],
   "source": [
    "def fitter_even_numbers(numbers):\n",
    "    return[x for x in numbers if x % 2==0]"
   ]
  },
  {
   "cell_type": "code",
   "execution_count": null,
   "id": "d4a2b05e",
   "metadata": {
    "id": "bea983a3"
   },
   "outputs": [],
   "source": [
    "### Exercise 59:\n",
    "Write a Python function that takes a list of tuples and returns a list of the first elements of each tuple.\n",
    "\n",
    "```python\n",
    "# Exercise 59\n",
    "```\n",
    "\n",
    "---"
   ]
  },
  {
   "cell_type": "code",
   "execution_count": 34,
   "id": "6eb24640",
   "metadata": {},
   "outputs": [
    {
     "ename": "SyntaxError",
     "evalue": "invalid syntax (4235510877.py, line 2)",
     "output_type": "error",
     "traceback": [
      "\u001b[0;36m  File \u001b[0;32m\"/tmp/ipykernel_11487/4235510877.py\"\u001b[0;36m, line \u001b[0;32m2\u001b[0m\n\u001b[0;31m    returne[t[0]for t in tuples_list]\u001b[0m\n\u001b[0m                ^\u001b[0m\n\u001b[0;31mSyntaxError\u001b[0m\u001b[0;31m:\u001b[0m invalid syntax\n"
     ]
    }
   ],
   "source": [
    "def get_first_elements(tuples_list):\n",
    "    returne[t[0]for t in tuples_list]"
   ]
  },
  {
   "cell_type": "code",
   "execution_count": null,
   "id": "e71c5f62",
   "metadata": {
    "id": "bea983a3"
   },
   "outputs": [],
   "source": [
    "### Exercise 60:\n",
    "Write a Python program that removes duplicates from a list without changing the order of elements.\n",
    "\n",
    "```python\n",
    "# Exercise 60\n",
    "```\n",
    "\n",
    "---"
   ]
  },
  {
   "cell_type": "code",
   "execution_count": 36,
   "id": "759521dc",
   "metadata": {},
   "outputs": [
    {
     "ename": "SyntaxError",
     "evalue": "invalid syntax (2467739888.py, line 7)",
     "output_type": "error",
     "traceback": [
      "\u001b[0;36m  File \u001b[0;32m\"/tmp/ipykernel_11487/2467739888.py\"\u001b[0;36m, line \u001b[0;32m7\u001b[0m\n\u001b[0;31m    result apprend(item)\u001b[0m\n\u001b[0m           ^\u001b[0m\n\u001b[0;31mSyntaxError\u001b[0m\u001b[0;31m:\u001b[0m invalid syntax\n"
     ]
    }
   ],
   "source": [
    "def remove_duplicates_preserve_order(lst):\n",
    "    seen=set()\n",
    "    result=[]\n",
    "    for item in lst:\n",
    "        if item not in seen:\n",
    "            seen.add(item)\n",
    "            result apprend(item)\n",
    "            return result"
   ]
  },
  {
   "cell_type": "code",
   "execution_count": null,
   "id": "5cbc9e6b",
   "metadata": {
    "id": "bea983a3"
   },
   "outputs": [],
   "source": [
    "### Exercise 61:\n",
    "Use the `map()` function to convert a list of strings to a list of their lengths.\n",
    "\n",
    "```python\n",
    "# Exercise 61\n",
    "```\n",
    "\n",
    "---"
   ]
  },
  {
   "cell_type": "code",
   "execution_count": 39,
   "id": "0f87e682",
   "metadata": {},
   "outputs": [
    {
     "ename": "IndentationError",
     "evalue": "unexpected indent (514836382.py, line 2)",
     "output_type": "error",
     "traceback": [
      "\u001b[0;36m  File \u001b[0;32m\"/tmp/ipykernel_11487/514836382.py\"\u001b[0;36m, line \u001b[0;32m2\u001b[0m\n\u001b[0;31m    lengths=list(map(1en,strings))\u001b[0m\n\u001b[0m    ^\u001b[0m\n\u001b[0;31mIndentationError\u001b[0m\u001b[0;31m:\u001b[0m unexpected indent\n"
     ]
    }
   ],
   "source": [
    "strings=[\"apple\", \"banana\",\"cherry\"]\n",
    "  lengths=list(map(1en,strings))"
   ]
  },
  {
   "cell_type": "code",
   "execution_count": null,
   "id": "6298b32a",
   "metadata": {
    "id": "bea983a3"
   },
   "outputs": [],
   "source": [
    "### Exercise 62:\n",
    "Write a Python program that calculates the average of a list of numbers.\n",
    "\n",
    "```python\n",
    "# Exercise 62\n",
    "```\n",
    "\n",
    "---"
   ]
  },
  {
   "cell_type": "code",
   "execution_count": 44,
   "id": "df5767a8",
   "metadata": {},
   "outputs": [
    {
     "ename": "SyntaxError",
     "evalue": "invalid syntax (2734179109.py, line 2)",
     "output_type": "error",
     "traceback": [
      "\u001b[0;36m  File \u001b[0;32m\"/tmp/ipykernel_11487/2734179109.py\"\u001b[0;36m, line \u001b[0;32m2\u001b[0m\n\u001b[0;31m    return sum(numbers)/ 1 en(numbers)\u001b[0m\n\u001b[0m                           ^\u001b[0m\n\u001b[0;31mSyntaxError\u001b[0m\u001b[0;31m:\u001b[0m invalid syntax\n"
     ]
    }
   ],
   "source": [
    "def calculate_average(numbers):\n",
    "    return sum(numbers)/ 1 en(numbers)"
   ]
  },
  {
   "cell_type": "code",
   "execution_count": null,
   "id": "a60d9772",
   "metadata": {
    "id": "bea983a3"
   },
   "outputs": [],
   "source": [
    "### Exercise 63:\n",
    "Write a Python function that generates a list of the first `n` Fibonacci numbers.\n",
    "\n",
    "```python\n",
    "# Exercise 63\n",
    "```\n",
    "\n",
    "---"
   ]
  },
  {
   "cell_type": "code",
   "execution_count": 45,
   "id": "ff41ab1e",
   "metadata": {},
   "outputs": [],
   "source": [
    "def fibonacci_list(n):\n",
    "    fib=[0,1]\n",
    "    for i in range(2,n):\n",
    "        fib.append(fib[i-1]+fib[i-2])\n",
    "        return"
   ]
  },
  {
   "cell_type": "code",
   "execution_count": null,
   "id": "04077ef0",
   "metadata": {
    "id": "bea983a3"
   },
   "outputs": [],
   "source": [
    "### Exercise 64:\n",
    "Write a Python program that counts how many times each element appears in the list `[\"apple\", \"banana\", \"apple\", \"cherry\"]`.\n",
    "\n",
    "```python\n",
    "# Exercise 64\n",
    "```\n",
    "\n",
    "---"
   ]
  },
  {
   "cell_type": "code",
   "execution_count": 47,
   "id": "f4dfdc2e",
   "metadata": {},
   "outputs": [
    {
     "ename": "IndentationError",
     "evalue": "unexpected indent (905730505.py, line 2)",
     "output_type": "error",
     "traceback": [
      "\u001b[0;36m  File \u001b[0;32m\"/tmp/ipykernel_11487/905730505.py\"\u001b[0;36m, line \u001b[0;32m2\u001b[0m\n\u001b[0;31m    from collections import counter\u001b[0m\n\u001b[0m    ^\u001b[0m\n\u001b[0;31mIndentationError\u001b[0m\u001b[0;31m:\u001b[0m unexpected indent\n"
     ]
    }
   ],
   "source": [
    "fruit=[\"apple\",\"banana\",\"apple\",\"cherry\"]\n",
    "       from collections import counter\n",
    "       count=counter(fruits)"
   ]
  },
  {
   "cell_type": "code",
   "execution_count": null,
   "id": "5fdf753b",
   "metadata": {
    "id": "bea983a3"
   },
   "outputs": [],
   "source": [
    "### Exercise 65:\n",
    "Write a Python program that removes all occurrences of a specific value from a list.\n",
    "\n",
    "```python\n",
    "# Exercise 65\n",
    "```\n",
    "\n",
    "---"
   ]
  },
  {
   "cell_type": "code",
   "execution_count": 49,
   "id": "6f1478e9",
   "metadata": {},
   "outputs": [],
   "source": [
    "def remove_value(lst,value):\n",
    "    return[x for x in lst if x !=value]"
   ]
  },
  {
   "cell_type": "code",
   "execution_count": null,
   "id": "cbfcc4af",
   "metadata": {
    "id": "bea983a3"
   },
   "outputs": [],
   "source": [
    "### Exercise 66:\n",
    "Write a Python function that takes a list of strings and returns a list of the strings that start with a vowel.\n",
    "\n",
    "```python\n",
    "# Exercise 66\n",
    "```\n",
    "\n",
    "---"
   ]
  },
  {
   "cell_type": "code",
   "execution_count": 51,
   "id": "6dec7990",
   "metadata": {},
   "outputs": [
    {
     "ename": "SyntaxError",
     "evalue": "unterminated string literal (detected at line 2) (2854557101.py, line 2)",
     "output_type": "error",
     "traceback": [
      "\u001b[0;36m  File \u001b[0;32m\"/tmp/ipykernel_11487/2854557101.py\"\u001b[0;36m, line \u001b[0;32m2\u001b[0m\n\u001b[0;31m    vowels=aeiou'\u001b[0m\n\u001b[0m                ^\u001b[0m\n\u001b[0;31mSyntaxError\u001b[0m\u001b[0;31m:\u001b[0m unterminated string literal (detected at line 2)\n"
     ]
    }
   ],
   "source": [
    "def starts_with_vowel(strings):\n",
    "    vowels=aeiou'\n",
    "    return[s for s in strings if s and s[0]in vowels]"
   ]
  },
  {
   "cell_type": "code",
   "execution_count": null,
   "id": "54f92983",
   "metadata": {
    "id": "bea983a3"
   },
   "outputs": [],
   "source": [
    "### Exercise 67:\n",
    "Write a Python program that finds the intersection of two sets `set1` and `set2`.\n",
    "\n",
    "```python\n",
    "# Exercise 67\n",
    "```\n",
    "\n",
    "---"
   ]
  },
  {
   "cell_type": "code",
   "execution_count": 52,
   "id": "65027ef4",
   "metadata": {},
   "outputs": [],
   "source": [
    "def set_intersection(set1,set2):\n",
    "    return set1&sets"
   ]
  },
  {
   "cell_type": "code",
   "execution_count": null,
   "id": "2941ae7a",
   "metadata": {
    "id": "bea983a3"
   },
   "outputs": [],
   "source": [
    "### Exercise 68:\n",
    "Write a Python function that flattens a nested list.\n",
    "\n",
    "```python\n",
    "# Exercise 68\n",
    "```\n",
    "\n",
    "---"
   ]
  },
  {
   "cell_type": "markdown",
   "id": "1253a3c0",
   "metadata": {},
   "source": [
    "def flatten_nested_list(nested_list):\n",
    "    result=[]\n",
    "    for item in nested_list:\n",
    "        if is instance(item list):\n",
    "            result. extend(flatren_nested_list(item))\n",
    "            else=\n",
    "            result.append(item)\n",
    "            return result"
   ]
  },
  {
   "cell_type": "code",
   "execution_count": null,
   "id": "160a430b",
   "metadata": {
    "id": "bea983a3"
   },
   "outputs": [],
   "source": [
    "### Exercise 69:\n",
    "Write a Python program that checks if all the elements in a list are unique.\n",
    "\n",
    "```python\n",
    "# Exercise 69\n",
    "```\n",
    "\n",
    "---"
   ]
  },
  {
   "cell_type": "code",
   "execution_count": 3,
   "id": "064cb216",
   "metadata": {
    "id": "bea983a3"
   },
   "outputs": [],
   "source": [
    "def all_unique(lst):\n",
    "    return len(lst)==len(set(lst))"
   ]
  },
  {
   "cell_type": "code",
   "execution_count": null,
   "id": "330cdec1",
   "metadata": {
    "id": "bea983a3"
   },
   "outputs": [],
   "source": [
    "### Exercise 70:\n",
    "Use the `reduce()` function from the `functools` module to multiply all elements in a list.\n",
    "\n",
    "```python\n",
    "# Exercise 70\n",
    "```\n",
    "\n",
    "---"
   ]
  },
  {
   "cell_type": "code",
   "execution_count": 5,
   "id": "3d6b5eb0",
   "metadata": {},
   "outputs": [],
   "source": [
    "from functools import reduce\n",
    "numbers=[1,2,3,4,5]\n",
    "product=reduce(lambda x,y:x*y,numbers)"
   ]
  },
  {
   "cell_type": "code",
   "execution_count": null,
   "id": "a4eecf8d",
   "metadata": {
    "id": "bea983a3"
   },
   "outputs": [],
   "source": [
    "### Exercise 71:\n",
    "Write a Python function that takes a list of strings and returns a dictionary where keys are strings and values are their lengths.\n",
    "\n",
    "```python\n",
    "# Exercise 71\n",
    "```\n",
    "\n",
    "---"
   ]
  },
  {
   "cell_type": "code",
   "execution_count": 6,
   "id": "5efb75ad",
   "metadata": {},
   "outputs": [],
   "source": [
    "def strings_to_length_dict(strings):\n",
    "    return{s:len(s)for s in strings}"
   ]
  },
  {
   "cell_type": "code",
   "execution_count": null,
   "id": "3f270bb4",
   "metadata": {
    "id": "bea983a3"
   },
   "outputs": [],
   "source": [
    "### Exercise 72:\n",
    "Write a Python program that counts the number of vowels in a string.\n",
    "\n",
    "```python\n",
    "# Exercise 72\n",
    "```\n",
    "\n",
    "---"
   ]
  },
  {
   "cell_type": "code",
   "execution_count": 9,
   "id": "f41e996a",
   "metadata": {},
   "outputs": [],
   "source": [
    "def count_vowels(text):\n",
    "    vowels='aeiou AEIOU'"
   ]
  },
  {
   "cell_type": "code",
   "execution_count": null,
   "id": "f2ac6c43",
   "metadata": {
    "id": "bea983a3"
   },
   "outputs": [],
   "source": [
    "### Exercise 73:\n",
    "Create a list of tuples where each tuple contains a number from 1 to 5 and its factorial.\n",
    "\n",
    "```python\n",
    "# Exercise 73\n",
    "```\n",
    "\n",
    "---"
   ]
  },
  {
   "cell_type": "code",
   "execution_count": 1,
   "id": "0f7f392e",
   "metadata": {},
   "outputs": [],
   "source": [
    "def factorial_tuple_list(n):\n",
    "    return[(i,factorial(i))for i in range(1,n+1)]"
   ]
  },
  {
   "cell_type": "code",
   "execution_count": null,
   "id": "0bffad4b",
   "metadata": {
    "id": "bea983a3"
   },
   "outputs": [],
   "source": [
    "### Exercise 74:\n",
    "Write a Python program that converts a list of dictionaries into a single dictionary by merging them.\n",
    "\n",
    "```python\n",
    "# Exercise 74\n",
    "```\n",
    "\n",
    "---"
   ]
  },
  {
   "cell_type": "code",
   "execution_count": 2,
   "id": "ee8b6902",
   "metadata": {},
   "outputs": [],
   "source": [
    "def merge_dicts(dict_list):\n",
    "    result={}\n",
    "    for d in dict_list:\n",
    "        result.update(d)\n",
    "        return result"
   ]
  },
  {
   "cell_type": "code",
   "execution_count": null,
   "id": "22ff313e",
   "metadata": {
    "id": "bea983a3"
   },
   "outputs": [],
   "source": [
    "### Exercise 75:\n",
    "Write a Python function that checks if a set is a subset of another set.\n",
    "\n",
    "```python\n",
    "# Exercise 75\n",
    "```\n",
    "\n",
    "---"
   ]
  },
  {
   "cell_type": "code",
   "execution_count": 1,
   "id": "f5847f3f",
   "metadata": {},
   "outputs": [
    {
     "ename": "SyntaxError",
     "evalue": "invalid syntax (2588906591.py, line 1)",
     "output_type": "error",
     "traceback": [
      "\u001b[0;36m  File \u001b[0;32m\"/tmp/ipykernel_19636/2588906591.py\"\u001b[0;36m, line \u001b[0;32m1\u001b[0m\n\u001b[0;31m    def is_subset(set 1,set 2):\u001b[0m\n\u001b[0m                      ^\u001b[0m\n\u001b[0;31mSyntaxError\u001b[0m\u001b[0;31m:\u001b[0m invalid syntax\n"
     ]
    }
   ],
   "source": [
    "def is_subset(set 1,set 2):\n",
    "    return set 1.issubset(set 2)"
   ]
  },
  {
   "cell_type": "code",
   "execution_count": null,
   "id": "e0f2b00f",
   "metadata": {
    "id": "bea983a3"
   },
   "outputs": [],
   "source": [
    "### Exercise 76:\n",
    "Write a Python program that sorts a list of tuples based on the second element in each tuple.\n",
    "\n",
    "```python\n",
    "# Exercise 76\n",
    "```\n",
    "\n",
    "---"
   ]
  },
  {
   "cell_type": "code",
   "execution_count": 10,
   "id": "f073d9f6",
   "metadata": {},
   "outputs": [],
   "source": [
    "def sort_by_second_element(tuples_list):\n",
    "    return sorted(tuples_list,key=lambda x:x[1])"
   ]
  },
  {
   "cell_type": "code",
   "execution_count": null,
   "id": "37c1c834",
   "metadata": {
    "id": "bea983a3"
   },
   "outputs": [],
   "source": [
    "### Exercise 77:\n",
    "Write a Python function that takes a list of integers and returns a new list with only the positive integers.\n",
    "\n",
    "```python\n",
    "# Exercise 77\n",
    "```\n",
    "\n",
    "---"
   ]
  },
  {
   "cell_type": "code",
   "execution_count": 11,
   "id": "fc934eda",
   "metadata": {},
   "outputs": [],
   "source": [
    "def filter_positive_numbers(numbers):\n",
    "    return[x for x in number if x >0]\n"
   ]
  },
  {
   "cell_type": "code",
   "execution_count": null,
   "id": "d9caae6d",
   "metadata": {
    "id": "bea983a3"
   },
   "outputs": [],
   "source": [
    "### Exercise 78:\n",
    "Write a Python function that takes two sets and returns their union.\n",
    "\n",
    "```python\n",
    "# Exercise 78\n",
    "```\n",
    "\n",
    "---"
   ]
  },
  {
   "cell_type": "code",
   "execution_count": 12,
   "id": "76eecd02",
   "metadata": {},
   "outputs": [],
   "source": [
    "def set_union(set1,set2):\n",
    "    return set1/set2"
   ]
  },
  {
   "cell_type": "code",
   "execution_count": null,
   "id": "24539198",
   "metadata": {
    "id": "bea983a3"
   },
   "outputs": [],
   "source": [
    "### Exercise 79:\n",
    "Write a Python function that takes a list of numbers and returns the product of all the numbers.\n",
    "\n",
    "```python\n",
    "# Exercise 79\n",
    "```\n",
    "\n",
    "---"
   ]
  },
  {
   "cell_type": "code",
   "execution_count": 20,
   "id": "baba29f0",
   "metadata": {},
   "outputs": [],
   "source": [
    "def product_of_numbers(numbers):\n",
    "    result=1\n",
    "    for num in numbers:\n",
    "       result*=num\n",
    "    return result"
   ]
  },
  {
   "cell_type": "code",
   "execution_count": null,
   "id": "6e7dbf1c",
   "metadata": {
    "id": "bea983a3"
   },
   "outputs": [],
   "source": [
    "### Exercise 80:\n",
    "Write a Python program that converts a list of characters into a string.\n",
    "\n",
    "```python\n",
    "# Exercise 80\n",
    "```\n",
    "\n",
    "---"
   ]
  },
  {
   "cell_type": "code",
   "execution_count": 23,
   "id": "696280ec",
   "metadata": {},
   "outputs": [],
   "source": [
    "def list_to_string(char_list):\n",
    "    return''.join(char_list)"
   ]
  },
  {
   "cell_type": "code",
   "execution_count": null,
   "id": "0ccd5f0c",
   "metadata": {
    "id": "bea983a3"
   },
   "outputs": [],
   "source": [
    "### Exercise 81:\n",
    "Write a Python program that finds the second largest number in a list of integers.\n",
    "\n",
    "```python\n",
    "# Exercise 81\n",
    "```\n",
    "\n",
    "---"
   ]
  },
  {
   "cell_type": "code",
   "execution_count": 24,
   "id": "1ddac58c",
   "metadata": {},
   "outputs": [],
   "source": [
    "def second_largest(numbers):\n",
    "    unique_numbers=sorled(set(numbers),reverse=true)\n",
    "    return unique_unique[1]if len(unique_numbers)>1 else none"
   ]
  },
  {
   "cell_type": "code",
   "execution_count": null,
   "id": "06de7ec1",
   "metadata": {
    "id": "bea983a3"
   },
   "outputs": [],
   "source": [
    "### Exercise 82:\n",
    "Write a Python function that takes a dictionary and returns a list of its keys in sorted order.\n",
    "\n",
    "```python\n",
    "# Exercise 82\n",
    "```\n",
    "\n",
    "---"
   ]
  },
  {
   "cell_type": "code",
   "execution_count": 25,
   "id": "2170e26b",
   "metadata": {},
   "outputs": [],
   "source": [
    "def sorted_dict_keys(d):\n",
    "    return sorted(d.keys0)"
   ]
  },
  {
   "cell_type": "code",
   "execution_count": null,
   "id": "509dcc3e",
   "metadata": {
    "id": "bea983a3"
   },
   "outputs": [],
   "source": [
    "### Exercise 83:\n",
    "Write a Python program that finds the most common element in a list.\n",
    "\n",
    "```python\n",
    "# Exercise 83\n",
    "```\n",
    "\n",
    "---"
   ]
  },
  {
   "cell_type": "code",
   "execution_count": 27,
   "id": "960fc474",
   "metadata": {
    "id": "bea983a3"
   },
   "outputs": [],
   "source": [
    "def most_common_element(lst):\n",
    "    from collections import counter\n",
    "    return counter(lst).most_common(1)[0][0]"
   ]
  },
  {
   "cell_type": "code",
   "execution_count": null,
   "id": "ffa92577",
   "metadata": {
    "id": "bea983a3"
   },
   "outputs": [],
   "source": [
    "### Exercise 84:\n",
    "Write a Python function that takes a list of tuples and returns a list of the tuples sorted by the first element.\n",
    "\n",
    "```python\n",
    "# Exercise 84\n",
    "```\n",
    "\n",
    "---"
   ]
  },
  {
   "cell_type": "code",
   "execution_count": 28,
   "id": "916675d5",
   "metadata": {},
   "outputs": [],
   "source": [
    "def sort_tuples_by_first(tuples_list):\n",
    "    return sorted(tuples_list,key=lambda x:x[0])"
   ]
  },
  {
   "cell_type": "code",
   "execution_count": null,
   "id": "f7611be7",
   "metadata": {
    "id": "bea983a3"
   },
   "outputs": [],
   "source": [
    "### Exercise 85:\n",
    "Write a Python program that removes duplicates from a list of dictionaries.\n",
    "\n",
    "```python\n",
    "# Exercise 85\n",
    "```\n",
    "\n",
    "---"
   ]
  },
  {
   "cell_type": "code",
   "execution_count": 30,
   "id": "4a5b7e4e",
   "metadata": {},
   "outputs": [],
   "source": [
    "def remove_duplicate_dicts(dict_list):\n",
    "    seen=set()\n",
    "    result=[]\n",
    "    for d in dict_list:\n",
    "        t= tuple(sorted(d.items()))\n",
    "        if t not in seen:\n",
    "            seenadd(t)\n",
    "            result.append(d)\n",
    "            return result"
   ]
  },
  {
   "cell_type": "code",
   "execution_count": null,
   "id": "e871ef02",
   "metadata": {
    "id": "bea983a3"
   },
   "outputs": [],
   "source": [
    "### Exercise 86:\n",
    "Write a Python function that takes a list of numbers and returns the minimum and maximum numbers in the list.\n",
    "\n",
    "```python\n",
    "# Exercise 86\n",
    "```\n",
    "\n",
    "---"
   ]
  },
  {
   "cell_type": "code",
   "execution_count": 31,
   "id": "c4b4b1b0",
   "metadata": {},
   "outputs": [],
   "source": [
    "def min_max(numbers):\n",
    "    return min(numbers),max(numbers)"
   ]
  },
  {
   "cell_type": "code",
   "execution_count": null,
   "id": "c3a060d6",
   "metadata": {
    "id": "bea983a3"
   },
   "outputs": [],
   "source": [
    "### Exercise 87:\n",
    "Write a Python program that creates a list of tuples from two lists.\n",
    "\n",
    "```python\n",
    "# Exercise 87\n",
    "```\n",
    "\n",
    "---"
   ]
  },
  {
   "cell_type": "code",
   "execution_count": 32,
   "id": "dd2feec3",
   "metadata": {},
   "outputs": [],
   "source": [
    "def zip_list(list1,list2):\n",
    "    return list(zip(list1,list2))"
   ]
  },
  {
   "cell_type": "code",
   "execution_count": null,
   "id": "5767d3bf",
   "metadata": {
    "id": "bea983a3"
   },
   "outputs": [],
   "source": [
    "### Exercise 88:\n",
    "Write a Python function that takes a list of strings and returns a list of the strings in reverse order.\n",
    "\n",
    "```python\n",
    "# Exercise 88\n",
    "```\n",
    "\n",
    "---"
   ]
  },
  {
   "cell_type": "code",
   "execution_count": 33,
   "id": "4dddaa7a",
   "metadata": {},
   "outputs": [],
   "source": [
    "def reverse_strings_list(strings):\n",
    "    return[s[::-1]for s in strings]"
   ]
  },
  {
   "cell_type": "code",
   "execution_count": null,
   "id": "54787eb5",
   "metadata": {
    "id": "bea983a3"
   },
   "outputs": [],
   "source": [
    "### Exercise 89:\n",
    "Write a Python function that takes a list of integers and returns the sum of all odd numbers.\n",
    "\n",
    "```python\n",
    "# Exercise 89\n",
    "```\n",
    "\n",
    "---"
   ]
  },
  {
   "cell_type": "code",
   "execution_count": 34,
   "id": "0ad298d6",
   "metadata": {},
   "outputs": [],
   "source": [
    "def sum_add_numbers(numbers):\n",
    "    return sum(x for x in numbers if x%2!=0)"
   ]
  },
  {
   "cell_type": "code",
   "execution_count": null,
   "id": "5ce055bd",
   "metadata": {
    "id": "bea983a3"
   },
   "outputs": [],
   "source": [
    "### Exercise 90:\n",
    "Write a Python program that checks if a string is a palindrome.\n",
    "\n",
    "```python\n",
    "# Exercise 90\n",
    "```\n",
    "\n",
    "---"
   ]
  },
  {
   "cell_type": "code",
   "execution_count": 35,
   "id": "1c5e1f5a",
   "metadata": {},
   "outputs": [],
   "source": [
    "def is_palindrome(text):\n",
    "    return text==text[::-1]"
   ]
  },
  {
   "cell_type": "code",
   "execution_count": null,
   "id": "fcf03fae",
   "metadata": {
    "id": "bea983a3"
   },
   "outputs": [],
   "source": [
    "### Exercise 91:\n",
    "Write a Python program that finds the median of a list of numbers.\n",
    "\n",
    "```python\n",
    "# Exercise 91\n",
    "```\n",
    "\n",
    "---"
   ]
  },
  {
   "cell_type": "code",
   "execution_count": 36,
   "id": "53f0278c",
   "metadata": {},
   "outputs": [],
   "source": [
    "def find_median(numbers):\n",
    "    sorted_numbers=sorted(numbers)\n",
    "    n=len(sorted_numbers)\n",
    "    if n % 2==0:\n",
    "        return(sorted_numbers[n//2-1]+sorted_numbers[n//2])/2\n",
    "    else:\n",
    "        return sorted_numbers[n//2]"
   ]
  },
  {
   "cell_type": "code",
   "execution_count": null,
   "id": "96d1b5f6",
   "metadata": {
    "id": "bea983a3"
   },
   "outputs": [],
   "source": [
    "### Exercise 92:\n",
    "Write a Python function that takes a list of dictionaries and returns a dictionary with the total value for each key.\n",
    "\n",
    "```python\n",
    "# Exercise 92\n",
    "```\n",
    "\n",
    "---"
   ]
  },
  {
   "cell_type": "code",
   "execution_count": 37,
   "id": "b9ff2d86",
   "metadata": {},
   "outputs": [],
   "source": [
    "def sum_dict_values_by_key(dict_list):\n",
    "    result={}\n",
    "    for d in dict_list:\n",
    "        for key,value in d.items():\n",
    "            result[key]=result.get(key,0)+value\n",
    "            return"
   ]
  },
  {
   "cell_type": "code",
   "execution_count": null,
   "id": "214f0bc4",
   "metadata": {
    "id": "bea983a3"
   },
   "outputs": [],
   "source": [
    "### Exercise 93:\n",
    "Write a Python program that calculates the mode of a list of numbers.\n",
    "\n",
    "```python\n",
    "# Exercise 93\n",
    "```\n",
    "\n",
    "---"
   ]
  },
  {
   "cell_type": "code",
   "execution_count": 38,
   "id": "63009cbb",
   "metadata": {},
   "outputs": [],
   "source": [
    "def find_mode(numbers):\n",
    "    from collections import counter\n",
    "    count=counter(numbers)\n",
    "    return count.most_common(1)[0][0]"
   ]
  },
  {
   "cell_type": "code",
   "execution_count": null,
   "id": "3793d1b2",
   "metadata": {
    "id": "bea983a3"
   },
   "outputs": [],
   "source": [
    "### Exercise 94:\n",
    "Write a Python function that takes a list of numbers and returns the sum of the squares of all the numbers.\n",
    "\n",
    "```python\n",
    "# Exercise 94\n",
    "```\n",
    "\n",
    "---"
   ]
  },
  {
   "cell_type": "code",
   "execution_count": 39,
   "id": "bcf2684a",
   "metadata": {},
   "outputs": [],
   "source": [
    "def sum_of_squares(numbers):\n",
    "    return sum(x**2 for x in numbers)"
   ]
  },
  {
   "cell_type": "code",
   "execution_count": null,
   "id": "9e870dbc",
   "metadata": {
    "id": "bea983a3"
   },
   "outputs": [],
   "source": [
    "### Exercise 95:\n",
    "Write a Python program that creates a list of tuples, where each tuple contains a number and its cube for numbers from 1 to 5.\n",
    "\n",
    "```python\n",
    "# Exercise 95\n",
    "```\n",
    "\n",
    "---"
   ]
  },
  {
   "cell_type": "code",
   "execution_count": 43,
   "id": "8c987f60",
   "metadata": {},
   "outputs": [],
   "source": [
    "def number_cube_tuples(n):\n",
    " return[(x,x**3)for x in range(1,n + 1)]"
   ]
  },
  {
   "cell_type": "code",
   "execution_count": null,
   "id": "a8584e2f",
   "metadata": {
    "id": "bea983a3"
   },
   "outputs": [],
   "source": [
    "### Exercise 96:\n",
    "Write a Python function that returns a list of all prime numbers up to `n`.\n",
    "\n",
    "```python\n",
    "# Exercise 96\n",
    "```\n",
    "\n",
    "---"
   ]
  },
  {
   "cell_type": "code",
   "execution_count": 44,
   "id": "b9a41bf3",
   "metadata": {},
   "outputs": [],
   "source": [
    "def is_prime(n):\n",
    "    if n<2:\n",
    "        return false\n",
    "    for i in range(2,int(n**0,5)+1):\n",
    "        if n % i ==0:\n",
    "            return false\n",
    "        return true\n",
    "    def prime_up_to_n(n):\n",
    "        return[x for x in range(2,n+1)if is_prime(x)]\n",
    "                 "
   ]
  },
  {
   "cell_type": "code",
   "execution_count": null,
   "id": "110dbaf0",
   "metadata": {
    "id": "bea983a3"
   },
   "outputs": [],
   "source": [
    "### Exercise 97:\n",
    "Write a Python program that finds the common keys between two dictionaries.\n",
    "\n",
    "```python\n",
    "# Exercise 97\n",
    "```\n",
    "\n",
    "---"
   ]
  },
  {
   "cell_type": "code",
   "execution_count": 1,
   "id": "715cd530",
   "metadata": {},
   "outputs": [],
   "source": [
    "def common_keys(dict1,dict2):\n",
    "    return set(dict1.keys())& set(dict2.keys())"
   ]
  },
  {
   "cell_type": "code",
   "execution_count": null,
   "id": "8c37f08e",
   "metadata": {
    "id": "bea983a3"
   },
   "outputs": [],
   "source": [
    "### Exercise 98:\n",
    "Write a Python function that takes a list of strings and returns a list of the strings that contain more than 5 characters.\n",
    "\n",
    "```python\n",
    "# Exercise 98\n",
    "```\n",
    "\n",
    "---"
   ]
  },
  {
   "cell_type": "code",
   "execution_count": 2,
   "id": "0519b93a",
   "metadata": {},
   "outputs": [],
   "source": [
    "def long_trings(strings):\n",
    "    return[s for s in strings if len(s)>5]"
   ]
  },
  {
   "cell_type": "code",
   "execution_count": null,
   "id": "51387e61",
   "metadata": {
    "id": "bea983a3"
   },
   "outputs": [],
   "source": [
    "### Exercise 99:\n",
    "Write a Python program that converts a list of strings into a list of tuples, where each tuple contains the string and its length.\n",
    "\n",
    "```python\n",
    "# Exercise 99\n",
    "```\n",
    "\n",
    "---"
   ]
  },
  {
   "cell_type": "code",
   "execution_count": 3,
   "id": "f77ac8ce",
   "metadata": {},
   "outputs": [],
   "source": [
    "def stings_with_length(strings):\n",
    "    return[(s,len(s))for s in strings]"
   ]
  },
  {
   "cell_type": "code",
   "execution_count": null,
   "id": "6fa57481",
   "metadata": {
    "id": "bea983a3"
   },
   "outputs": [],
   "source": [
    "### Exercise 100:\n",
    "Write a Python function that takes a list of dictionaries and returns a new dictionary by summing the values of each key across all dictionaries.\n",
    "\n",
    "```python\n",
    "# Exercise 100\n",
    "```\n",
    "\n",
    "---"
   ]
  },
  {
   "cell_type": "code",
   "execution_count": 1,
   "id": "c4b2a40b",
   "metadata": {},
   "outputs": [],
   "source": [
    "def sum_dict_value_across(dict_list):\n",
    "    result={}\n",
    "    for d in dict_list:\n",
    "        for key,value in d.items():\n",
    "            result[key]=result.get(key,0)+value\n",
    "            return result"
   ]
  }
 ],
 "metadata": {
  "colab": {
   "provenance": []
  },
  "kernelspec": {
   "display_name": "Python 3 (ipykernel)",
   "language": "python",
   "name": "python3"
  },
  "language_info": {
   "codemirror_mode": {
    "name": "ipython",
    "version": 3
   },
   "file_extension": ".py",
   "mimetype": "text/x-python",
   "name": "python",
   "nbconvert_exporter": "python",
   "pygments_lexer": "ipython3",
   "version": "3.10.12"
  }
 },
 "nbformat": 4,
 "nbformat_minor": 5
}
