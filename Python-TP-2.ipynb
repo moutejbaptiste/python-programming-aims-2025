{
 "cells": [
  {
   "cell_type": "markdown",
   "id": "d68c1dee",
   "metadata": {
    "id": "d68c1dee"
   },
   "source": [
    "# Practical_2: String and files"
   ]
  },
  {
   "cell_type": "code",
   "execution_count": null,
   "id": "b79e2b42",
   "metadata": {
    "id": "bea983a3"
   },
   "outputs": [],
   "source": [
    "---\n",
    "\n",
    "### Exercise 1:\n",
    "Create a string variable `text` and assign it the value `\"Python is amazing!\"`.\n",
    "\n",
    "```python\n",
    "# Exercise 1\n",
    "```"
   ]
  },
  {
   "cell_type": "code",
   "execution_count": 3,
   "id": "1f3add33",
   "metadata": {},
   "outputs": [],
   "source": [
    "text =\"python is amazing!\""
   ]
  },
  {
   "cell_type": "code",
   "execution_count": null,
   "id": "d28b4777",
   "metadata": {
    "id": "bea983a3"
   },
   "outputs": [],
   "source": [
    "---\n",
    "\n",
    "### Exercise 2:\n",
    "Find the length of the string `\"Hello, World!\"` and store it in a variable `length`.\n",
    "\n",
    "```python\n",
    "# Exercise 2\n",
    "```\n",
    "\n",
    "---"
   ]
  },
  {
   "cell_type": "code",
   "execution_count": 4,
   "id": "1ded343d",
   "metadata": {},
   "outputs": [],
   "source": [
    "lenth=len(\"hello,word!\")"
   ]
  },
  {
   "cell_type": "code",
   "execution_count": null,
   "id": "81901b98",
   "metadata": {
    "id": "bea983a3"
   },
   "outputs": [],
   "source": [
    "### Exercise 3:\n",
    "Convert the string `\"python programming\"` to uppercase and store it in a variable `upper_text`.\n",
    "\n",
    "```python\n",
    "# Exercise 3\n",
    "```"
   ]
  },
  {
   "cell_type": "code",
   "execution_count": 5,
   "id": "7d985432",
   "metadata": {},
   "outputs": [],
   "source": [
    "upper_text = \"python programming\".upper()"
   ]
  },
  {
   "cell_type": "code",
   "execution_count": null,
   "id": "999e5264",
   "metadata": {
    "id": "bea983a3"
   },
   "outputs": [],
   "source": [
    "---\n",
    "\n",
    "### Exercise 4:\n",
    "Extract the first 5 characters from the string `\"Artificial Intelligence\"`.\n",
    "\n",
    "```python\n",
    "# Exercise 4\n",
    "```\n",
    "\n",
    "---"
   ]
  },
  {
   "cell_type": "code",
   "execution_count": 6,
   "id": "34d144f7",
   "metadata": {},
   "outputs": [],
   "source": [
    "first_five = \"artifical inteligence\"[:5]"
   ]
  },
  {
   "cell_type": "code",
   "execution_count": null,
   "id": "827e0405",
   "metadata": {
    "id": "bea983a3"
   },
   "outputs": [],
   "source": [
    "### Exercise 5:\n",
    "Concatenate the strings `\"Hello\"` and `\"World\"` with a space in between.\n",
    "\n",
    "```python\n",
    "# Exercise 5\n",
    "```\n",
    "\n",
    "---"
   ]
  },
  {
   "cell_type": "code",
   "execution_count": 7,
   "id": "46f28601",
   "metadata": {},
   "outputs": [],
   "source": [
    "concatenated =\"ello\"+\"\"+\"word\""
   ]
  },
  {
   "cell_type": "code",
   "execution_count": null,
   "id": "2f7f5696",
   "metadata": {
    "id": "bea983a3"
   },
   "outputs": [],
   "source": [
    "### Exercise 6:\n",
    "Replace the word `\"dog\"` with `\"cat\"` in the string `\"The quick brown dog jumps over the lazy dog.\"`.\n",
    "\n",
    "```python\n",
    "# Exercise 6\n",
    "```\n",
    "\n"
   ]
  },
  {
   "cell_type": "code",
   "execution_count": 8,
   "id": "e6378920",
   "metadata": {},
   "outputs": [],
   "source": [
    "sentence =\"the quick browin dog jumps over the lazy dog.\""
   ]
  },
  {
   "cell_type": "code",
   "execution_count": null,
   "id": "02dd0d09",
   "metadata": {
    "id": "bea983a3"
   },
   "outputs": [],
   "source": [
    "### Exercise 7:\n",
    "Split the string `\"apple,banana,orange\"` by commas and store the result in a list `fruits_list`.\n",
    "\n",
    "```python\n",
    "# Exercise 7\n",
    "```\n",
    "\n",
    "---"
   ]
  },
  {
   "cell_type": "code",
   "execution_count": 9,
   "id": "1f0231a3",
   "metadata": {},
   "outputs": [],
   "source": [
    "fruits_string = \"apple,banana,orange\"\n",
    "fruits_list =fruits_string.split(\",\")"
   ]
  },
  {
   "cell_type": "code",
   "execution_count": null,
   "id": "4b77f470",
   "metadata": {
    "id": "bea983a3"
   },
   "outputs": [],
   "source": [
    "### Exercise 8:\n",
    "Use string formatting to create the sentence `\"My name is Alice and I am 25 years old.\"`, where the name and age are variables.\n",
    "\n",
    "```python\n",
    "# Exercise 8\n",
    "```\n",
    "\n",
    "---"
   ]
  },
  {
   "cell_type": "code",
   "execution_count": 13,
   "id": "a3530068",
   "metadata": {},
   "outputs": [],
   "source": [
    "name = \"alice\"\n",
    "age = 25\n",
    "formatted = f\"my name is (name) and i am {age} years old.\""
   ]
  },
  {
   "cell_type": "markdown",
   "id": "89b04328",
   "metadata": {
    "id": "bea983a3"
   },
   "source": [
    "### Exercise 9:\n",
    "Check if the string `\"python\"` is present in the sentence `\"I love python programming\"`.\n",
    "\n",
    "```python\n",
    "# Exercise 9\n",
    "```\n",
    "\n",
    "---"
   ]
  },
  {
   "cell_type": "code",
   "execution_count": 14,
   "id": "4f100def",
   "metadata": {
    "id": "bea983a3"
   },
   "outputs": [],
   "source": [
    "sentence = \"i love python programming\"\n",
    "contains_python = \"python\"in sentence"
   ]
  },
  {
   "cell_type": "code",
   "execution_count": null,
   "id": "1cedfd45",
   "metadata": {
    "id": "bea983a3"
   },
   "outputs": [],
   "source": [
    "### Exercise 10:\n",
    "Count the number of occurrences of the letter `\"e\"` in the string `\"Elephant is an elegant animal\"`.\n",
    "\n",
    "```python\n",
    "# Exercise 10\n",
    "```\n",
    "\n",
    "---"
   ]
  },
  {
   "cell_type": "code",
   "execution_count": 15,
   "id": "770f7feb",
   "metadata": {},
   "outputs": [],
   "source": [
    "text = \"elephant is an elegant animal\"\n",
    "count_e = text. lower().count(\"e\")"
   ]
  },
  {
   "cell_type": "code",
   "execution_count": null,
   "id": "b139b9ae",
   "metadata": {
    "id": "bea983a3"
   },
   "outputs": [],
   "source": [
    "### Exercise 11:\n",
    "Remove any leading and trailing spaces from the string `\"   Data Science   \"`.\n",
    "\n",
    "```python\n",
    "# Exercise 11\n",
    "```"
   ]
  },
  {
   "cell_type": "code",
   "execution_count": 16,
   "id": "b3e594ae",
   "metadata": {},
   "outputs": [],
   "source": [
    "text = \"data science\"\n",
    "stripped =text.strip()"
   ]
  },
  {
   "cell_type": "code",
   "execution_count": null,
   "id": "aefe0720",
   "metadata": {
    "id": "bea983a3"
   },
   "outputs": [],
   "source": [
    "---\n",
    "\n",
    "### Exercise 12:\n",
    "Convert the string `\"100\"` into an integer and store it in a variable `int_value`.\n",
    "\n",
    "```python\n",
    "# Exercise 12\n",
    "```\n",
    "\n",
    "---"
   ]
  },
  {
   "cell_type": "code",
   "execution_count": 18,
   "id": "d7af16b5",
   "metadata": {},
   "outputs": [],
   "source": [
    "string_number = \"100\"\n",
    "int_value = int(string_number)"
   ]
  },
  {
   "cell_type": "code",
   "execution_count": null,
   "id": "f34b5625",
   "metadata": {
    "id": "bea983a3"
   },
   "outputs": [],
   "source": [
    "### Exercise 13:\n",
    "Extract the substring `\"pro\"` from the string `\"programming\"`.\n",
    "\n",
    "```python\n",
    "# Exercise 13\n",
    "```\n",
    "\n",
    "---"
   ]
  },
  {
   "cell_type": "code",
   "execution_count": 19,
   "id": "6c33692b",
   "metadata": {},
   "outputs": [],
   "source": [
    "word =\"programming\"\n",
    "substring =word [0:3]"
   ]
  },
  {
   "cell_type": "code",
   "execution_count": null,
   "id": "b66ec2d3",
   "metadata": {
    "id": "bea983a3"
   },
   "outputs": [],
   "source": [
    "### Exercise 14:\n",
    "Check if the string `\"data\"` starts with `\"da\"` and ends with `\"ta\"`.\n",
    "\n",
    "```python\n",
    "# Exercise 14\n",
    "```"
   ]
  },
  {
   "cell_type": "code",
   "execution_count": 22,
   "id": "0792f47e",
   "metadata": {},
   "outputs": [
    {
     "ename": "SyntaxError",
     "evalue": "invalid syntax (1247799742.py, line 2)",
     "output_type": "error",
     "traceback": [
      "\u001b[0;36m  File \u001b[0;32m\"/tmp/ipykernel_32019/1247799742.py\"\u001b[0;36m, line \u001b[0;32m2\u001b[0m\n\u001b[0;31m    starts_with_da text.starts with(\"da\")\u001b[0m\n\u001b[0m                   ^\u001b[0m\n\u001b[0;31mSyntaxError\u001b[0m\u001b[0;31m:\u001b[0m invalid syntax\n"
     ]
    }
   ],
   "source": [
    "text = \"data\"\n",
    "starts_with_da - text.starts with(\"da\")\n",
    "ends_with_ta = text.ends with(\"ta\")"
   ]
  },
  {
   "cell_type": "code",
   "execution_count": null,
   "id": "e051a299",
   "metadata": {
    "id": "bea983a3"
   },
   "outputs": [],
   "source": [
    "---\n",
    "\n",
    "### Exercise 15:\n",
    "Reverse the string `\"machine learning\"` and store the result in `reversed_text`.\n",
    "\n",
    "```python\n",
    "# Exercise 15\n",
    "```\n",
    "\n",
    "---"
   ]
  },
  {
   "cell_type": "code",
   "execution_count": 23,
   "id": "187ca475",
   "metadata": {},
   "outputs": [],
   "source": [
    "text =\"machine learning\"\n",
    "reversed_text = text[::-1]"
   ]
  },
  {
   "cell_type": "code",
   "execution_count": null,
   "id": "9ff74908",
   "metadata": {
    "id": "bea983a3"
   },
   "outputs": [],
   "source": [
    "### Exercise 16:\n",
    "Convert the first letter of each word in the string `\"machine learning is fun\"` to uppercase.\n",
    "\n",
    "```python\n",
    "# Exercise 16\n",
    "```\n",
    "\n",
    "---"
   ]
  },
  {
   "cell_type": "code",
   "execution_count": 24,
   "id": "84b5fdc2",
   "metadata": {},
   "outputs": [],
   "source": [
    "text = \"machinelearning is fun\"\n",
    "title_case =text.title()"
   ]
  },
  {
   "cell_type": "code",
   "execution_count": null,
   "id": "2e7375b6",
   "metadata": {
    "id": "bea983a3"
   },
   "outputs": [],
   "source": [
    "### Exercise 17:\n",
    "Create a multiline string representing a poem and store it in a variable `poem`.\n",
    "\n",
    "```python\n",
    "# Exercise 17\n",
    "```"
   ]
  },
  {
   "cell_type": "code",
   "execution_count": 25,
   "id": "0a8d5189",
   "metadata": {},
   "outputs": [],
   "source": [
    "poem =\"\"\"roses are red,\n",
    "violets are blue,\n",
    "python isawesome,\n",
    "and so are you!\"\"\""
   ]
  },
  {
   "cell_type": "code",
   "execution_count": null,
   "id": "3ef38a04",
   "metadata": {
    "id": "bea983a3"
   },
   "outputs": [],
   "source": [
    "---\n",
    "\n",
    "### Exercise 18:\n",
    "Write a string to a file named `\"output.txt\"`.\n",
    "\n",
    "```python\n",
    "# Exercise 18\n",
    "```"
   ]
  },
  {
   "cell_type": "code",
   "execution_count": 29,
   "id": "4968c3c2",
   "metadata": {},
   "outputs": [
    {
     "ename": "SyntaxError",
     "evalue": "invalid syntax (2112048485.py, line 1)",
     "output_type": "error",
     "traceback": [
      "\u001b[0;36m  File \u001b[0;32m\"/tmp/ipykernel_32019/2112048485.py\"\u001b[0;36m, line \u001b[0;32m1\u001b[0m\n\u001b[0;31m    with open(\"output.txt\".\"w\")asfile:\u001b[0m\n\u001b[0m                           ^\u001b[0m\n\u001b[0;31mSyntaxError\u001b[0m\u001b[0;31m:\u001b[0m invalid syntax\n"
     ]
    }
   ],
   "source": [
    "with open(\"output.txt\".\"w\")asfile:\n",
    "file.write(\"hello,this is some text!\")"
   ]
  },
  {
   "cell_type": "code",
   "execution_count": null,
   "id": "397f128d",
   "metadata": {
    "id": "bea983a3"
   },
   "outputs": [],
   "source": [
    "---\n",
    "\n",
    "### Exercise 19:\n",
    "Read the contents of a file named `\"data.txt\"` and print it line by line.\n",
    "\n",
    "```python\n",
    "# Exercise 19\n",
    "```\n",
    "\n",
    "---"
   ]
  },
  {
   "cell_type": "code",
   "execution_count": 36,
   "id": "5c0c9116",
   "metadata": {},
   "outputs": [
    {
     "ename": "SyntaxError",
     "evalue": "unterminated string literal (detected at line 2) (2208006562.py, line 2)",
     "output_type": "error",
     "traceback": [
      "\u001b[0;36m  File \u001b[0;32m\"/tmp/ipykernel_32019/2208006562.py\"\u001b[0;36m, line \u001b[0;32m2\u001b[0m\n\u001b[0;31m    with open(data.txt\",\"r\")as file:\u001b[0m\n\u001b[0m                         ^\u001b[0m\n\u001b[0;31mSyntaxError\u001b[0m\u001b[0;31m:\u001b[0m unterminated string literal (detected at line 2)\n"
     ]
    }
   ],
   "source": [
    "try\n",
    "with open(data.txt\",\"r\")as file:\n",
    "    for line in file:\n",
    "    print(line.strip())\n",
    "    except file note found error:\n",
    "    print(\"filedata.txt not found.\")\n"
   ]
  },
  {
   "cell_type": "code",
   "execution_count": 37,
   "id": "50d1922b",
   "metadata": {
    "id": "bea983a3"
   },
   "outputs": [
    {
     "ename": "SyntaxError",
     "evalue": "expected 'else' after 'if' expression (2962166753.py, line 2)",
     "output_type": "error",
     "traceback": [
      "\u001b[0;36m  File \u001b[0;32m\"/tmp/ipykernel_32019/2962166753.py\"\u001b[0;36m, line \u001b[0;32m2\u001b[0m\n\u001b[0;31m    Check if a file `\"example.txt\"` exists before opening it.\u001b[0m\n\u001b[0m    ^\u001b[0m\n\u001b[0;31mSyntaxError\u001b[0m\u001b[0;31m:\u001b[0m expected 'else' after 'if' expression\n"
     ]
    }
   ],
   "source": [
    "### Exercise 20:\n",
    "Check if a file `\"example.txt\"` exists before opening it.\n",
    "\n",
    "```python\n",
    "# Exercise 20\n",
    "```\n",
    "\n",
    "---"
   ]
  },
  {
   "cell_type": "code",
   "execution_count": 42,
   "id": "95301d51",
   "metadata": {},
   "outputs": [
    {
     "ename": "SyntaxError",
     "evalue": "invalid syntax (687330680.py, line 5)",
     "output_type": "error",
     "traceback": [
      "\u001b[0;36m  File \u001b[0;32m\"/tmp/ipykernel_32019/687330680.py\"\u001b[0;36m, line \u001b[0;32m5\u001b[0m\n\u001b[0;31m    else :\u001b[0m\n\u001b[0m    ^\u001b[0m\n\u001b[0;31mSyntaxError\u001b[0m\u001b[0;31m:\u001b[0m invalid syntax\n"
     ]
    }
   ],
   "source": [
    "import os\n",
    "if os.path.exists(\"exemple.txt\"):\n",
    "    with open(\"example.txt\"\"r\")as file:\n",
    "        content = file.read()\n",
    "        else :\n",
    "        print(\"file does not exist.\")"
   ]
  },
  {
   "cell_type": "code",
   "execution_count": null,
   "id": "22bbecb3",
   "metadata": {},
   "outputs": [],
   "source": []
  },
  {
   "cell_type": "markdown",
   "id": "8a6372ce",
   "metadata": {
    "id": "bea983a3"
   },
   "source": [
    "### Exercise 21:\n",
    "Append a new line `\"This is a new line\"` to an existing file `\"notes.txt\"`.\n",
    "\n",
    "```python\n",
    "# Exercise 21\n",
    "```\n",
    "\n",
    "---"
   ]
  },
  {
   "cell_type": "code",
   "execution_count": 43,
   "id": "5b0b7f7f",
   "metadata": {},
   "outputs": [],
   "source": [
    "with open(\"notes.txt\",\"a\")as file:\n",
    "    file.write(\"ln this is a new line\")"
   ]
  },
  {
   "cell_type": "code",
   "execution_count": null,
   "id": "6bc90d09",
   "metadata": {
    "id": "bea983a3"
   },
   "outputs": [],
   "source": [
    "### Exercise 22:\n",
    "Read the contents of a file `\"log.txt\"` and store each line in a list `log_lines`.\n",
    "\n",
    "```python\n",
    "# Exercise 22\n",
    "```\n",
    "\n",
    "---"
   ]
  },
  {
   "cell_type": "code",
   "execution_count": 46,
   "id": "33e2dda8",
   "metadata": {},
   "outputs": [
    {
     "ename": "SyntaxError",
     "evalue": "invalid syntax (98433763.py, line 1)",
     "output_type": "error",
     "traceback": [
      "\u001b[0;36m  File \u001b[0;32m\"/tmp/ipykernel_32019/98433763.py\"\u001b[0;36m, line \u001b[0;32m1\u001b[0m\n\u001b[0;31m    with open(\"log.txt\",\"r\")asfile:\u001b[0m\n\u001b[0m                            ^\u001b[0m\n\u001b[0;31mSyntaxError\u001b[0m\u001b[0;31m:\u001b[0m invalid syntax\n"
     ]
    }
   ],
   "source": [
    "with open(\"log.txt\",\"r\")asfile:\n",
    "    log_lines=file.readlines()"
   ]
  },
  {
   "cell_type": "code",
   "execution_count": null,
   "id": "6062502f",
   "metadata": {
    "id": "bea983a3"
   },
   "outputs": [],
   "source": [
    "### Exercise 23:\n",
    "Create a new file `\"report.txt\"` and write the string `\"Data analysis report\"` to it.\n",
    "\n",
    "```python\n",
    "# Exercise 23\n",
    "```\n",
    "\n",
    "---"
   ]
  },
  {
   "cell_type": "code",
   "execution_count": 49,
   "id": "6cf13c05",
   "metadata": {},
   "outputs": [
    {
     "ename": "SyntaxError",
     "evalue": "invalid syntax (4114006093.py, line 1)",
     "output_type": "error",
     "traceback": [
      "\u001b[0;36m  File \u001b[0;32m\"/tmp/ipykernel_32019/4114006093.py\"\u001b[0;36m, line \u001b[0;32m1\u001b[0m\n\u001b[0;31m    with open(\"report.txt,\"\"w\")asfile:\u001b[0m\n\u001b[0m                               ^\u001b[0m\n\u001b[0;31mSyntaxError\u001b[0m\u001b[0;31m:\u001b[0m invalid syntax\n"
     ]
    }
   ],
   "source": [
    "with open(\"report.txt,\"\"w\")asfile:\n",
    "    file.write(\"data analysis report\")"
   ]
  },
  {
   "cell_type": "code",
   "execution_count": null,
   "id": "276d35d0",
   "metadata": {
    "id": "bea983a3"
   },
   "outputs": [],
   "source": [
    "### Exercise 24:\n",
    "Replace the word `\"error\"` with `\"issue\"` in a file `\"log.txt\"`.\n",
    "\n",
    "```python\n",
    "# Exercise 24\n",
    "```\n",
    "\n",
    "---"
   ]
  },
  {
   "cell_type": "code",
   "execution_count": 52,
   "id": "c77c03df",
   "metadata": {},
   "outputs": [
    {
     "ename": "SyntaxError",
     "evalue": "expected ':' (726905397.py, line 1)",
     "output_type": "error",
     "traceback": [
      "\u001b[0;36m  File \u001b[0;32m\"/tmp/ipykernel_32019/726905397.py\"\u001b[0;36m, line \u001b[0;32m1\u001b[0m\n\u001b[0;31m    with open(\"log.txt\",\"r\")as file\u001b[0m\n\u001b[0m                                   ^\u001b[0m\n\u001b[0;31mSyntaxError\u001b[0m\u001b[0;31m:\u001b[0m expected ':'\n"
     ]
    }
   ],
   "source": [
    "with open(\"log.txt\",\"r\")as file\n",
    "content= file.read()\n",
    "new_content= content.replace(\"error\",\"issue\")\n",
    "with open(\"log.txt\",\"w\")as file:\n",
    "    file.write(new_content)"
   ]
  },
  {
   "cell_type": "code",
   "execution_count": null,
   "id": "f12d31d8",
   "metadata": {
    "id": "bea983a3"
   },
   "outputs": [],
   "source": [
    "### Exercise 25:\n",
    "Count the number of words in a text file `\"document.txt\"`.\n",
    "\n",
    "```python\n",
    "# Exercise 25\n",
    "```\n",
    "\n",
    "---"
   ]
  },
  {
   "cell_type": "code",
   "execution_count": 58,
   "id": "6c811abe",
   "metadata": {},
   "outputs": [
    {
     "ename": "IndentationError",
     "evalue": "unexpected indent (290096598.py, line 3)",
     "output_type": "error",
     "traceback": [
      "\u001b[0;36m  File \u001b[0;32m\"/tmp/ipykernel_32019/290096598.py\"\u001b[0;36m, line \u001b[0;32m3\u001b[0m\n\u001b[0;31m    words =   content.split()\u001b[0m\n\u001b[0m    ^\u001b[0m\n\u001b[0;31mIndentationError\u001b[0m\u001b[0;31m:\u001b[0m unexpected indent\n"
     ]
    }
   ],
   "source": [
    "    with open(\"document.txt\",\"r\") as file:\n",
    "        content = file.red()\n",
    "           words =   content.split()\n",
    "            word =    count = len(words)"
   ]
  },
  {
   "cell_type": "code",
   "execution_count": null,
   "id": "5c631fa4",
   "metadata": {
    "id": "bea983a3"
   },
   "outputs": [],
   "source": [
    "### Exercise 26:\n",
    "Write a Python script that reads a file `\"essay.txt\"` and prints the total number of lines, words, and characters.\n",
    "\n",
    "```python\n",
    "# Exercise 26\n",
    "```\n",
    "\n",
    "---"
   ]
  },
  {
   "cell_type": "code",
   "execution_count": 61,
   "id": "1cafff41",
   "metadata": {},
   "outputs": [
    {
     "ename": "SyntaxError",
     "evalue": "invalid syntax (2734622913.py, line 3)",
     "output_type": "error",
     "traceback": [
      "\u001b[0;36m  File \u001b[0;32m\"/tmp/ipykernel_32019/2734622913.py\"\u001b[0;36m, line \u001b[0;32m3\u001b[0m\n\u001b[0;31m    lines = file.read line\u001b[0m\n\u001b[0m                      ^\u001b[0m\n\u001b[0;31mSyntaxError\u001b[0m\u001b[0;31m:\u001b[0m invalid syntax\n"
     ]
    }
   ],
   "source": [
    "def analyze_file(filename):\n",
    "    with open(filename,\"r\")as file:\n",
    "        lines = file.read line()\n",
    "        line-count = len(lines)\n",
    "        word_count = 0\n",
    "        char_count = 0\n",
    "        for line in lines\n",
    "        word = line.split()\n",
    "        word_count + = len(words)\n",
    "        char_count + = len(line)\n",
    "        return lin_count,word_count,char_count\n",
    "        "
   ]
  },
  {
   "cell_type": "code",
   "execution_count": null,
   "id": "b81be6a4",
   "metadata": {
    "id": "bea983a3"
   },
   "outputs": [],
   "source": [
    "### Exercise 27:\n",
    "Copy the contents of one file `\"source.txt\"` to another file `\"destination.txt\"`.\n",
    "\n",
    "```python\n",
    "# Exercise 27\n",
    "```\n",
    "\n",
    "---"
   ]
  },
  {
   "cell_type": "code",
   "execution_count": 64,
   "id": "8cb6e0c1",
   "metadata": {
    "id": "bea983a3"
   },
   "outputs": [
    {
     "ename": "IndentationError",
     "evalue": "expected an indented block after 'with' statement on line 1 (3656443059.py, line 2)",
     "output_type": "error",
     "traceback": [
      "\u001b[0;36m  File \u001b[0;32m\"/tmp/ipykernel_32019/3656443059.py\"\u001b[0;36m, line \u001b[0;32m2\u001b[0m\n\u001b[0;31m    with open(\"destination.txt\",\"w\")as destination:\u001b[0m\n\u001b[0m    ^\u001b[0m\n\u001b[0;31mIndentationError\u001b[0m\u001b[0;31m:\u001b[0m expected an indented block after 'with' statement on line 1\n"
     ]
    }
   ],
   "source": [
    "with open(\"source.txt\",\"r\")as source:\n",
    "with open(\"destination.txt\",\"w\")as destination:\n",
    "        destination.write(source.read())"
   ]
  },
  {
   "cell_type": "code",
   "execution_count": null,
   "id": "82544a84",
   "metadata": {
    "id": "bea983a3"
   },
   "outputs": [],
   "source": [
    "### Exercise 28:\n",
    "Write a Python function that takes a filename as input and returns the number of lines in the file.\n",
    "\n",
    "```python\n",
    "# Exercise 28\n",
    "```\n",
    "\n",
    "---"
   ]
  },
  {
   "cell_type": "code",
   "execution_count": 63,
   "id": "3a169846",
   "metadata": {},
   "outputs": [],
   "source": [
    "def count_lines (filename):\n",
    " with open(filename,\"r\") as file:\n",
    "    return len(file.readlines())"
   ]
  },
  {
   "cell_type": "code",
   "execution_count": null,
   "id": "f1db49d0",
   "metadata": {
    "id": "bea983a3"
   },
   "outputs": [],
   "source": [
    "### Exercise 29:\n",
    "Extract all the words from a text file `\"article.txt\"` that contain more than 5 characters.\n",
    "\n",
    "```python\n",
    "# Exercise 29\n",
    "```\n",
    "\n",
    "---"
   ]
  },
  {
   "cell_type": "code",
   "execution_count": 75,
   "id": "dab50f11",
   "metadata": {},
   "outputs": [],
   "source": [
    "def long_words(filename):\n",
    "    with open(filename,\"r\") as file:\n",
    "        content=file.read()\n",
    "        words =content.split()\n",
    "        return[\"word for word inword if len(word)>5\"]\n",
    "        "
   ]
  },
  {
   "cell_type": "code",
   "execution_count": null,
   "id": "047ca76e",
   "metadata": {
    "id": "bea983a3"
   },
   "outputs": [],
   "source": [
    "### Exercise 30:\n",
    "Convert the contents of a file `\"notes.txt\"` to uppercase and save the result in another file `\"uppercase_notes.txt\"`.\n",
    "\n",
    "```python\n",
    "# Exercise 30\n",
    "```\n",
    "\n",
    "---"
   ]
  },
  {
   "cell_type": "code",
   "execution_count": 77,
   "id": "0691206e",
   "metadata": {},
   "outputs": [
    {
     "ename": "SyntaxError",
     "evalue": "unterminated string literal (detected at line 1) (1868280032.py, line 1)",
     "output_type": "error",
     "traceback": [
      "\u001b[0;36m  File \u001b[0;32m\"/tmp/ipykernel_32019/1868280032.py\"\u001b[0;36m, line \u001b[0;32m1\u001b[0m\n\u001b[0;31m    with open(\"notes.txt.\"r\")as source:\u001b[0m\n\u001b[0m                          ^\u001b[0m\n\u001b[0;31mSyntaxError\u001b[0m\u001b[0;31m:\u001b[0m unterminated string literal (detected at line 1)\n"
     ]
    }
   ],
   "source": [
    "with open(\"notes.txt.\"r\")as source:\n",
    "    content=source.read()\n",
    "     with open(\"uppercase_notes.txt\",\"w\")as destination:\n",
    "    destination.writ(content.upper())"
   ]
  },
  {
   "cell_type": "code",
   "execution_count": null,
   "id": "649b557a",
   "metadata": {
    "id": "bea983a3"
   },
   "outputs": [],
   "source": [
    "### Exercise 31:\n",
    "Write a Python script that reads a file and removes all empty lines.\n",
    "\n",
    "```python\n",
    "# Exercise 31\n",
    "```\n",
    "\n",
    "---"
   ]
  },
  {
   "cell_type": "code",
   "execution_count": 78,
   "id": "53c8f6f4",
   "metadata": {},
   "outputs": [
    {
     "ename": "SyntaxError",
     "evalue": "invalid syntax (1944863467.py, line 3)",
     "output_type": "error",
     "traceback": [
      "\u001b[0;36m  File \u001b[0;32m\"/tmp/ipykernel_32019/1944863467.py\"\u001b[0;36m, line \u001b[0;32m3\u001b[0m\n\u001b[0;31m    lines=file.read lines()\u001b[0m\n\u001b[0m                    ^\u001b[0m\n\u001b[0;31mSyntaxError\u001b[0m\u001b[0;31m:\u001b[0m invalid syntax\n"
     ]
    }
   ],
   "source": [
    "def remove_empty_lines(filename):\n",
    "    with open(fiiename,\"r\")as file:\n",
    "        lines=file.read lines()\n",
    "        non_empty_line=[line for line in lines if line.strip()]\n",
    "        with open(filename,\"w\")as file:\n",
    "            file.write lines(non_empty_line)\n",
    "      "
   ]
  },
  {
   "cell_type": "code",
   "execution_count": null,
   "id": "1d02e71a",
   "metadata": {
    "id": "bea983a3"
   },
   "outputs": [],
   "source": [
    "### Exercise 32:\n",
    "Open a file `\"config.txt\"` in both read and write mode.\n",
    "\n",
    "```python\n",
    "# Exercise 32\n",
    "```\n",
    "\n",
    "---"
   ]
  },
  {
   "cell_type": "markdown",
   "id": "a821fbbb",
   "metadata": {},
   "source": [
    "with open (\"config-txt\",\"r\")as file :\n",
    "    content = file.read()\n",
    "    file.write (\"new configuration\")"
   ]
  },
  {
   "cell_type": "code",
   "execution_count": null,
   "id": "d6b91688",
   "metadata": {
    "id": "bea983a3"
   },
   "outputs": [],
   "source": [
    "### Exercise 33:\n",
    "Write a Python function that reads a file and prints the longest line in the file.\n",
    "\n",
    "```python\n",
    "# Exercise 33\n",
    "```\n",
    "\n",
    "---"
   ]
  },
  {
   "cell_type": "code",
   "execution_count": 1,
   "id": "992e7c06",
   "metadata": {},
   "outputs": [
    {
     "ename": "IndentationError",
     "evalue": "expected an indented block after 'with' statement on line 2 (3795762526.py, line 3)",
     "output_type": "error",
     "traceback": [
      "\u001b[0;36m  File \u001b[0;32m\"/tmp/ipykernel_17860/3795762526.py\"\u001b[0;36m, line \u001b[0;32m3\u001b[0m\n\u001b[0;31m    lines = file read lines()\u001b[0m\n\u001b[0m    ^\u001b[0m\n\u001b[0;31mIndentationError\u001b[0m\u001b[0;31m:\u001b[0m expected an indented block after 'with' statement on line 2\n"
     ]
    }
   ],
   "source": [
    " def longgest_line(filename):\n",
    "    with open (filename,\"r\")as file:\n",
    "    lines = file read lines()\n",
    "     return max (lines,key = len).strip()"
   ]
  },
  {
   "cell_type": "code",
   "execution_count": null,
   "id": "618eae61",
   "metadata": {
    "id": "bea983a3"
   },
   "outputs": [],
   "source": [
    "### Exercise 34:\n",
    "Write a Python script to count the frequency of each letter in a text file `\"message.txt\"`.\n",
    "\n",
    "```python\n",
    "# Exercise 34\n",
    "```\n",
    "\n",
    "---"
   ]
  },
  {
   "cell_type": "code",
   "execution_count": 93,
   "id": "1adf60c6",
   "metadata": {},
   "outputs": [
    {
     "ename": "SyntaxError",
     "evalue": "expected ':' (2723928557.py, line 2)",
     "output_type": "error",
     "traceback": [
      "\u001b[0;36m  File \u001b[0;32m\"/tmp/ipykernel_32019/2723928557.py\"\u001b[0;36m, line \u001b[0;32m2\u001b[0m\n\u001b[0;31m    with open(filename,\"r\")as file\u001b[0m\n\u001b[0m                                  ^\u001b[0m\n\u001b[0;31mSyntaxError\u001b[0m\u001b[0;31m:\u001b[0m expected ':'\n"
     ]
    }
   ],
   "source": [
    "def letter_frequency(filename):\n",
    "    with open(filename,\"r\")as file\n",
    "    content = file.read().lower()\n",
    "    frequency = {}\n",
    "    for char in content:\n",
    "    if char.isalpha():\n",
    "     frequency[char]= frequency.get(char.0)+1\n",
    "     return frequency"
   ]
  },
  {
   "cell_type": "code",
   "execution_count": null,
   "id": "9169d1b0",
   "metadata": {
    "id": "bea983a3"
   },
   "outputs": [],
   "source": [
    "### Exercise 35:\n",
    "Write a Python script that reads a file and prints the total number of characters, excluding spaces.\n",
    "\n",
    "```python\n",
    "# Exercise 35\n",
    "```\n",
    "\n",
    "---"
   ]
  },
  {
   "cell_type": "code",
   "execution_count": 94,
   "id": "96d1d516",
   "metadata": {},
   "outputs": [],
   "source": [
    "def count_chars_no_spaces(filename):\n",
    "    with open(filename,\"r\")as file:\n",
    "        content= file.read()\n",
    "        return len(content.replace(\"\",\"\"))"
   ]
  },
  {
   "cell_type": "code",
   "execution_count": null,
   "id": "beee6ea8",
   "metadata": {
    "id": "bea983a3"
   },
   "outputs": [],
   "source": [
    "### Exercise 36:\n",
    "Create a Python script to check whether a file is empty or not.\n",
    "\n",
    "```python\n",
    "# Exercise 36\n",
    "```\n",
    "\n",
    "---"
   ]
  },
  {
   "cell_type": "code",
   "execution_count": 95,
   "id": "c1e83e42",
   "metadata": {},
   "outputs": [],
   "source": [
    "def is_empty(filename):\n",
    "    return os.path.getsize(filname)==0"
   ]
  },
  {
   "cell_type": "code",
   "execution_count": null,
   "id": "9564f3d1",
   "metadata": {
    "id": "bea983a3"
   },
   "outputs": [],
   "source": [
    "### Exercise 37:\n",
    "Write a Python function that reads a file and removes all punctuation marks from the text.\n",
    "\n",
    "```python\n",
    "# Exercise 37\n",
    "```\n",
    "\n",
    "---"
   ]
  },
  {
   "cell_type": "code",
   "execution_count": 96,
   "id": "f9bcea6d",
   "metadata": {},
   "outputs": [],
   "source": [
    "import string\n",
    "def remove_punctuation(filename):\n",
    "    with open(filename,\"r\")as file:\n",
    "        content=file.read()\n",
    "        clean_content=content.translate(str.maketrens(\",\",string.punctuation))\n",
    "        return clean_content"
   ]
  },
  {
   "cell_type": "code",
   "execution_count": null,
   "id": "f451fe42",
   "metadata": {
    "id": "bea983a3"
   },
   "outputs": [],
   "source": [
    "### Exercise 38:\n",
    "Create a Python function that writes a list of strings to a file, each string on a new line.\n",
    "\n",
    "```python\n",
    "# Exercise 38\n",
    "```\n",
    "\n",
    "---"
   ]
  },
  {
   "cell_type": "markdown",
   "id": "2e4bacf7",
   "metadata": {},
   "source": [
    "def wite_list_to_file strings_list,(filiname):\n",
    "    with open(filename,\"w\")as file:\n",
    "        for string in string_list:\n",
    "            file.write(string+\"ln\")"
   ]
  },
  {
   "cell_type": "code",
   "execution_count": null,
   "id": "21f70ef3",
   "metadata": {
    "id": "bea983a3"
   },
   "outputs": [],
   "source": [
    "### Exercise 39:\n",
    "Write a Python script to count the number of lines that start with a specific letter (e.g., \"A\") in a text file.\n",
    "\n",
    "```python\n",
    "# Exercise 39\n",
    "```\n",
    "\n",
    "---"
   ]
  },
  {
   "cell_type": "code",
   "execution_count": 101,
   "id": "acc4445f",
   "metadata": {},
   "outputs": [
    {
     "ename": "SyntaxError",
     "evalue": "invalid syntax (3882487149.py, line 3)",
     "output_type": "error",
     "traceback": [
      "\u001b[0;36m  File \u001b[0;32m\"/tmp/ipykernel_32019/3882487149.py\"\u001b[0;36m, line \u001b[0;32m3\u001b[0m\n\u001b[0;31m    lines = file.read lines()\u001b[0m\n\u001b[0m                      ^\u001b[0m\n\u001b[0;31mSyntaxError\u001b[0m\u001b[0;31m:\u001b[0m invalid syntax\n"
     ]
    }
   ],
   "source": [
    "def count_lines_starting_with(filename,letter):\n",
    "    with open(filename,\"r\")as file:\n",
    "        lines = file.read lines()\n",
    "        return sum(1for line in lines if line.strip().star tswith(letter))"
   ]
  },
  {
   "cell_type": "code",
   "execution_count": null,
   "id": "1dfeb6e4",
   "metadata": {
    "id": "bea983a3"
   },
   "outputs": [],
   "source": [
    "### Exercise 40:\n",
    "Write a Python function that takes a string as input and writes it to a file `\"output.txt\"` in reverse order.\n",
    "\n",
    "```python\n",
    "# Exercise 40\n",
    "```\n",
    "\n",
    "---"
   ]
  },
  {
   "cell_type": "code",
   "execution_count": 1,
   "id": "4f9db703",
   "metadata": {},
   "outputs": [],
   "source": [
    "def write_reverse_to_file(text,filename =\"output.txt\"):\n",
    "    reversed_text=text[::-1]\n",
    "    with open(filename,\"w\")as file:\n",
    "        file.write(reversed_text)\n",
    "    "
   ]
  },
  {
   "cell_type": "code",
   "execution_count": null,
   "id": "672fe1ad",
   "metadata": {
    "id": "bea983a3"
   },
   "outputs": [],
   "source": [
    "### Exercise 41:\n",
    "Write a Python script that reads a file and prints all the lines that contain the word `\"Python\"`.\n",
    "\n",
    "```python\n",
    "# Exercise 41\n",
    "```\n",
    "\n",
    "---"
   ]
  },
  {
   "cell_type": "code",
   "execution_count": 2,
   "id": "e3be9c5c",
   "metadata": {},
   "outputs": [],
   "source": [
    "def fined_python_lines(filename):\n",
    "    with open(filename,\"r\")as file:\n",
    "        for line in file:\n",
    "            if\"python in line\":\n",
    "                print(line.strip())"
   ]
  },
  {
   "cell_type": "code",
   "execution_count": null,
   "id": "78654124",
   "metadata": {
    "id": "bea983a3"
   },
   "outputs": [],
   "source": [
    "### Exercise 42:\n",
    "Write a Python script that opens a file and removes all numeric digits from the file's content.\n",
    "\n",
    "```python\n",
    "# Exercise 42\n",
    "```\n",
    "\n",
    "---"
   ]
  },
  {
   "cell_type": "code",
   "execution_count": 7,
   "id": "405815f0",
   "metadata": {},
   "outputs": [
    {
     "ename": "SyntaxError",
     "evalue": "unterminated string literal (detected at line 4) (2636909941.py, line 4)",
     "output_type": "error",
     "traceback": [
      "\u001b[0;36m  File \u001b[0;32m\"/tmp/ipykernel_9845/2636909941.py\"\u001b[0;36m, line \u001b[0;32m4\u001b[0m\n\u001b[0;31m    clean_content=\"\".join\"(char for char in content if not char.is digit())\u001b[0m\n\u001b[0m                         ^\u001b[0m\n\u001b[0;31mSyntaxError\u001b[0m\u001b[0;31m:\u001b[0m unterminated string literal (detected at line 4)\n"
     ]
    }
   ],
   "source": [
    "def remove_digits(filename):\n",
    "    with open(filename,\"r\")as file:\n",
    "        content=file.read()\n",
    "        clean_content=\"\".join\"(char for char in content if not char.is digit())\n",
    "        with open(filename,\"w\")as file:\n",
    "            file.write(clean_content)"
   ]
  },
  {
   "cell_type": "code",
   "execution_count": null,
   "id": "5d6080c9",
   "metadata": {
    "id": "bea983a3"
   },
   "outputs": [],
   "source": [
    "### Exercise 43:\n",
    "Write a Python script to find the most frequent word in a text file `\"book.txt\"`.\n",
    "\n",
    "```python\n",
    "# Exercise 43\n",
    "```\n",
    "\n",
    "---"
   ]
  },
  {
   "cell_type": "code",
   "execution_count": null,
   "id": "a83aed88",
   "metadata": {
    "id": "bea983a3"
   },
   "outputs": [],
   "source": [
    "### Exercise 44:\n",
    "Write a Python script that reads a file and prints all the lines that contain exactly 5 words.\n",
    "\n",
    "```python\n",
    "# Exercise 44\n",
    "```\n",
    "\n",
    "---"
   ]
  },
  {
   "cell_type": "code",
   "execution_count": 12,
   "id": "3ba93d7d",
   "metadata": {},
   "outputs": [],
   "source": [
    "def lines_with_five_words(filename):\n",
    "    with open(filename,\"r\")as file:\n",
    "        for line in file:\n",
    "            word=line.split()\n",
    "            if len(words)==5:\n",
    "                print(line.strip())"
   ]
  },
  {
   "cell_type": "code",
   "execution_count": null,
   "id": "0532cd9e",
   "metadata": {
    "id": "bea983a3"
   },
   "outputs": [],
   "source": [
    "### Exercise 45:\n",
    "Write a Python script to read a file and print the first and last line of the file.\n",
    "\n",
    "```python\n",
    "# Exercise 45\n",
    "```\n",
    "\n",
    "---"
   ]
  },
  {
   "cell_type": "code",
   "execution_count": 15,
   "id": "54e52cde",
   "metadata": {},
   "outputs": [],
   "source": [
    "def first_last_line(filename):\n",
    "    with open(filename,\"r\")as file:\n",
    "        line=file.readlines()\n",
    "        print(\"first line:\",lines[0].strip())\n",
    "        print(\"last line:\",lines[-1].strip())"
   ]
  },
  {
   "cell_type": "code",
   "execution_count": null,
   "id": "ba71d6e5",
   "metadata": {
    "id": "bea983a3"
   },
   "outputs": [],
   "source": [
    "### Exercise 46:\n",
    "Write a Python script that checks if a file `\"students.txt\"` is writable.\n",
    "\n",
    "```python\n",
    "# Exercise 46\n",
    "```\n",
    "\n",
    "---"
   ]
  },
  {
   "cell_type": "markdown",
   "id": "f0e7de2d",
   "metadata": {},
   "source": [
    "def is_writable(filename):\n",
    "    return os.access(filename,os w_ok)"
   ]
  },
  {
   "cell_type": "code",
   "execution_count": null,
   "id": "9d83c303",
   "metadata": {
    "id": "bea983a3"
   },
   "outputs": [],
   "source": [
    "### Exercise 47:\n",
    "Create a Python function that opens a file and returns the number of unique words in the file.\n",
    "\n",
    "```python\n",
    "# Exercise 47\n",
    "```\n",
    "\n",
    "---"
   ]
  },
  {
   "cell_type": "code",
   "execution_count": 2,
   "id": "6b7d3621",
   "metadata": {},
   "outputs": [],
   "source": [
    "def unique_words_count(filename):\n",
    "     with open(filename,\"r\")as file:\n",
    "        content=file.read().loweer()\n",
    "        word=set(content.split())\n",
    "        return len(word)"
   ]
  },
  {
   "cell_type": "code",
   "execution_count": null,
   "id": "5c9251be",
   "metadata": {
    "id": "bea983a3"
   },
   "outputs": [],
   "source": [
    "### Exercise 48:\n",
    "Write a Python script that reads a file and prints all lines in reverse order.\n",
    "\n",
    "```python\n",
    "# Exercise 48\n",
    "```\n",
    "\n",
    "---"
   ]
  },
  {
   "cell_type": "code",
   "execution_count": 3,
   "id": "e29d8f89",
   "metadata": {},
   "outputs": [],
   "source": [
    "def print_lines_reverse(flename):\n",
    "    with open(filename,\"r\")as file:\n",
    "        lines=file.readline()\n",
    "        for line in reversed(lines):\n",
    "            print(line.strip())"
   ]
  },
  {
   "cell_type": "code",
   "execution_count": null,
   "id": "b35bdc8c",
   "metadata": {
    "id": "bea983a3"
   },
   "outputs": [],
   "source": [
    "### Exercise 49:\n",
    "Write a Python function that reads a file and returns the most common letter in the text.\n",
    "\n",
    "```python\n",
    "# Exercise 49\n",
    "```\n",
    "\n",
    "---"
   ]
  },
  {
   "cell_type": "code",
   "execution_count": 4,
   "id": "f191845c",
   "metadata": {},
   "outputs": [],
   "source": [
    "def most_common_letter(filename):\n",
    "    with open(filename,\"r\")as file:\n",
    "        content=file.read().lower()\n",
    "        letter_count={}\n",
    "        for char in content:\n",
    "            if char.isalpha():\n",
    "                letter_count[char]=letter_count.get(char,0)+1\n",
    "                return max(letter_count,key=letter_count.get)if letter_count else none"
   ]
  },
  {
   "cell_type": "code",
   "execution_count": null,
   "id": "4dbed05e",
   "metadata": {
    "id": "bea983a3"
   },
   "outputs": [],
   "source": [
    "### Exercise 50:\n",
    "Write a Python script that reads a file and replaces every occurrence of `\"Python\"` with `\"Java\"`.\n",
    "\n",
    "```python\n",
    "# Exercise 50\n",
    "```\n",
    "\n",
    "---"
   ]
  },
  {
   "cell_type": "code",
   "execution_count": 14,
   "id": "ad18d1e9",
   "metadata": {},
   "outputs": [
    {
     "ename": "IndentationError",
     "evalue": "unexpected indent (580841728.py, line 5)",
     "output_type": "error",
     "traceback": [
      "\u001b[0;36m  File \u001b[0;32m\"/tmp/ipykernel_17860/580841728.py\"\u001b[0;36m, line \u001b[0;32m5\u001b[0m\n\u001b[0;31m    with open(filename,\"w\")as file:\u001b[0m\n\u001b[0m    ^\u001b[0m\n\u001b[0;31mIndentationError\u001b[0m\u001b[0;31m:\u001b[0m unexpected indent\n"
     ]
    }
   ],
   "source": [
    "def replace_python_with_java(filename):\n",
    "    with open(filename,\"r\")as file:\n",
    "        content=file.read()\n",
    "        new_content=content.replace(\"pyton\",\"java\")\n",
    "            with open(filename,\"w\")as file:\n",
    "            file.write(new_countent)"
   ]
  },
  {
   "cell_type": "code",
   "execution_count": null,
   "id": "146b908f",
   "metadata": {},
   "outputs": [],
   "source": []
  }
 ],
 "metadata": {
  "colab": {
   "provenance": []
  },
  "kernelspec": {
   "display_name": "Python 3 (ipykernel)",
   "language": "python",
   "name": "python3"
  },
  "language_info": {
   "codemirror_mode": {
    "name": "ipython",
    "version": 3
   },
   "file_extension": ".py",
   "mimetype": "text/x-python",
   "name": "python",
   "nbconvert_exporter": "python",
   "pygments_lexer": "ipython3",
   "version": "3.10.12"
  }
 },
 "nbformat": 4,
 "nbformat_minor": 5
}
